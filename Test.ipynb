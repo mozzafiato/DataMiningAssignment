{
  "nbformat": 4,
  "nbformat_minor": 0,
  "metadata": {
    "colab": {
      "provenance": [],
      "include_colab_link": true
    },
    "kernelspec": {
      "name": "python3",
      "display_name": "Python 3"
    },
    "language_info": {
      "name": "python"
    }
  },
  "cells": [
    {
      "cell_type": "markdown",
      "metadata": {
        "id": "view-in-github",
        "colab_type": "text"
      },
      "source": [
        "<a href=\"https://colab.research.google.com/github/mozzafiato/DataMiningAssignment/blob/main/Test.ipynb\" target=\"_parent\"><img src=\"https://colab.research.google.com/assets/colab-badge.svg\" alt=\"Open In Colab\"/></a>"
      ]
    },
    {
      "cell_type": "code",
      "execution_count": 2,
      "metadata": {
        "id": "5rZzxWKeJ6E5",
        "colab": {
          "base_uri": "https://localhost:8080/"
        },
        "outputId": "8e17976f-6ee1-4d18-ae0e-cf64ac903899"
      },
      "outputs": [
        {
          "output_type": "stream",
          "name": "stdout",
          "text": [
            "Hii\n"
          ]
        }
      ],
      "source": [
        "print(\"Hii\")"
      ]
    },
    {
      "cell_type": "code",
      "source": [
        "print(\"hi2\") # by mark"
      ],
      "metadata": {
        "id": "cX-whA7PJ_cy",
        "colab": {
          "base_uri": "https://localhost:8080/"
        },
        "outputId": "38135763-eb12-487f-8d02-d7850dcc6691"
      },
      "execution_count": 1,
      "outputs": [
        {
          "output_type": "stream",
          "name": "stdout",
          "text": [
            "hi2\n"
          ]
        }
      ]
    }
  ]
}