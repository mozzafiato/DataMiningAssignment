{
 "cells": [
  {
   "cell_type": "markdown",
   "metadata": {},
   "source": [
    "## Testing and validation of ERiC implementation"
   ]
  },
  {
   "cell_type": "markdown",
   "metadata": {},
   "source": [
    "In this notebook, we test the outputs of both ELKI ERiC and our implementation of ERiC by comparing the outputs of the sample datasets from the two artificial datasets given at: https://elki-project.github.io/datasets/"
   ]
  },
  {
   "cell_type": "code",
   "execution_count": 1,
   "metadata": {
    "pycharm": {
     "is_executing": true
    }
   },
   "outputs": [],
   "source": [
    "import numpy as np\n",
    "import pandas as pd\n",
    "\n",
    "from lib import *\n",
    "\n",
    "from elki_eric import elki_eric\n",
    "import elki_parser\n",
    "import validation"
   ]
  },
  {
   "cell_type": "markdown",
   "metadata": {},
   "source": [
    "Here we define methods that load the data and run both algorithms. In the *validation.py* file we compare the sizes and content of the clusters. We also output the structure so that it can be checked manually."
   ]
  },
  {
   "cell_type": "code",
   "execution_count": 2,
   "metadata": {},
   "outputs": [],
   "source": [
    "def load_dataset(file):\n",
    "    with open(file) as f:\n",
    "        lines = [line.rstrip() for line in f if \"#\" not in line]\n",
    "        lines = [\",\".join(line.split(\" \")) for line in lines]\n",
    "    \n",
    "    df = pd.DataFrame([sub.split(\",\") for sub in lines], columns=[\"x1\",\"x2\",\"label\"])\n",
    "    X = df[[\"x1\",\"x2\"]]\n",
    "    X = X.astype(float)\n",
    "    \n",
    "    y = df[\"label\"]\n",
    "    return X, y\n",
    "    \n",
    "    \n",
    "def run_ERiC(df, k=10, min_samples=2, delta_affine=0.5, delta_dist=0.5):\n",
    "    D = df.to_numpy(dtype=np.float64)\n",
    "    point_info, partitions = make_partitions(D, k)\n",
    "\n",
    "    models, clusters = cluster_partitions(D, partitions, point_info, delta_affine, delta_dist, min_samples)\n",
    "\n",
    "    cluster_info = compute_cluster_list(clusters, D)\n",
    "    cluster_info = build_hierarchy(cluster_info, delta_affine, delta_dist, D.shape[1])\n",
    "    \n",
    "    return cluster_info    \n",
    "    \n",
    "    \n",
    "def run_ELKI_ERiC(df, k=10, min_samples=2, delta_affine=0.5, delta_dist=0.5, output_file=None):\n",
    "    D = df.to_numpy(dtype=np.float64)\n",
    "    \n",
    "    elki_eric(\n",
    "        X, \n",
    "        k=k, \n",
    "        dbscan_minpts=min_samples, \n",
    "        alpha=0.85, \n",
    "        delta_dist=delta_dist, \n",
    "        delta_affine=delta_affine, \n",
    "        output_file_name=output_file)\n",
    "    \n",
    "    df1_output = elki_parser.read_file(output_file)\n",
    "    cluster_info = elki_parser.parse_file(df1_output)\n",
    "    \n",
    "    return cluster_info   "
   ]
  },
  {
   "cell_type": "markdown",
   "metadata": {},
   "source": [
    "### Mouse dataset"
   ]
  },
  {
   "cell_type": "code",
   "execution_count": 3,
   "metadata": {
    "scrolled": false
   },
   "outputs": [
    {
     "name": "stdout",
     "output_type": "stream",
     "text": [
      "Run elki\n",
      "Saving ELKI results in elki_df1_output.txt\n",
      "Writing completed.\n",
      "The implementations return the same number of clusters.\n",
      "No. of clusters (our ERiC): 2\n",
      "No. of clusters (ELKI ERiC): 2\n",
      "\n",
      "The implementations return the same number of lambdas.\n",
      "No. of lambdas (our ERiC): {1: 1, 2: 1}\n",
      "No. of lambdas (ELKI ERiC): {1: 1, 2: 1}\n",
      "\n",
      "Our ERiC structure:\n",
      "Partition  1\n",
      "--- cluster 0  size: 24\n",
      "------ points\n",
      "[10, 13, 26, 27, 45, 52, 128, 135, 153, 171, 180, 189, 221, 222, 231, 241, 265, 292, 313, 398, 470, 485, 487, 499]\n",
      "------ parents\n",
      "[2]\n",
      "Partition  2\n",
      "--- cluster 0  size: 476\n",
      "------ points\n",
      "[0, 1, 2, 3, 4, 5, 6, 7, 8, 9, 11, 12, 14, 15, 16, 17, 18, 19, 20, 21, 22, 23, 24, 25, 28, 29, 30, 31, 32, 33, 34, 35, 36, 37, 38, 39, 40, 41, 42, 43, 44, 46, 47, 48, 49, 50, 51, 53, 54, 55, 56, 57, 58, 59, 60, 61, 62, 63, 64, 65, 66, 67, 68, 69, 70, 71, 72, 73, 74, 75, 76, 77, 78, 79, 80, 81, 82, 83, 84, 85, 86, 87, 88, 89, 90, 91, 92, 93, 94, 95, 96, 97, 98, 99, 100, 101, 102, 103, 104, 105, 106, 107, 108, 109, 110, 111, 112, 113, 114, 115, 116, 117, 118, 119, 120, 121, 122, 123, 124, 125, 126, 127, 129, 130, 131, 132, 133, 134, 136, 137, 138, 139, 140, 141, 142, 143, 144, 145, 146, 147, 148, 149, 150, 151, 152, 154, 155, 156, 157, 158, 159, 160, 161, 162, 163, 164, 165, 166, 167, 168, 169, 170, 172, 173, 174, 175, 176, 177, 178, 179, 181, 182, 183, 184, 185, 186, 187, 188, 190, 191, 192, 193, 194, 195, 196, 197, 198, 199, 200, 201, 202, 203, 204, 205, 206, 207, 208, 209, 210, 211, 212, 213, 214, 215, 216, 217, 218, 219, 220, 223, 224, 225, 226, 227, 228, 229, 230, 232, 233, 234, 235, 236, 237, 238, 239, 240, 242, 243, 244, 245, 246, 247, 248, 249, 250, 251, 252, 253, 254, 255, 256, 257, 258, 259, 260, 261, 262, 263, 264, 266, 267, 268, 269, 270, 271, 272, 273, 274, 275, 276, 277, 278, 279, 280, 281, 282, 283, 284, 285, 286, 287, 288, 289, 290, 291, 293, 294, 295, 296, 297, 298, 299, 300, 301, 302, 303, 304, 305, 306, 307, 308, 309, 310, 311, 312, 314, 315, 316, 317, 318, 319, 320, 321, 322, 323, 324, 325, 326, 327, 328, 329, 330, 331, 332, 333, 334, 335, 336, 337, 338, 339, 340, 341, 342, 343, 344, 345, 346, 347, 348, 349, 350, 351, 352, 353, 354, 355, 356, 357, 358, 359, 360, 361, 362, 363, 364, 365, 366, 367, 368, 369, 370, 371, 372, 373, 374, 375, 376, 377, 378, 379, 380, 381, 382, 383, 384, 385, 386, 387, 388, 389, 390, 391, 392, 393, 394, 395, 396, 397, 399, 400, 401, 402, 403, 404, 405, 406, 407, 408, 409, 410, 411, 412, 413, 414, 415, 416, 417, 418, 419, 420, 421, 422, 423, 424, 425, 426, 427, 428, 429, 430, 431, 432, 433, 434, 435, 436, 437, 438, 439, 440, 441, 442, 443, 444, 445, 446, 447, 448, 449, 450, 451, 452, 453, 454, 455, 456, 457, 458, 459, 460, 461, 462, 463, 464, 465, 466, 467, 468, 469, 471, 472, 473, 474, 475, 476, 477, 478, 479, 480, 481, 482, 483, 484, 486, 488, 489, 490, 491, 492, 493, 494, 495, 496, 497, 498]\n",
      "------ parents\n",
      "[]\n",
      "\n",
      "ELKI ERic structure\n",
      "Partition  1\n",
      "--- cluster 0  size: 24\n",
      "------ points\n",
      "[10, 13, 26, 27, 45, 52, 128, 135, 153, 171, 180, 189, 221, 222, 231, 241, 265, 292, 313, 398, 470, 485, 487, 499]\n",
      "------ parents\n",
      "[2]\n",
      "Partition  2\n",
      "--- cluster 0  size: 476\n",
      "------ points\n",
      "[0, 1, 2, 3, 4, 5, 6, 7, 8, 9, 11, 12, 14, 15, 16, 17, 18, 19, 20, 21, 22, 23, 24, 25, 28, 29, 30, 31, 32, 33, 34, 35, 36, 37, 38, 39, 40, 41, 42, 43, 44, 46, 47, 48, 49, 50, 51, 53, 54, 55, 56, 57, 58, 59, 60, 61, 62, 63, 64, 65, 66, 67, 68, 69, 70, 71, 72, 73, 74, 75, 76, 77, 78, 79, 80, 81, 82, 83, 84, 85, 86, 87, 88, 89, 90, 91, 92, 93, 94, 95, 96, 97, 98, 99, 100, 101, 102, 103, 104, 105, 106, 107, 108, 109, 110, 111, 112, 113, 114, 115, 116, 117, 118, 119, 120, 121, 122, 123, 124, 125, 126, 127, 129, 130, 131, 132, 133, 134, 136, 137, 138, 139, 140, 141, 142, 143, 144, 145, 146, 147, 148, 149, 150, 151, 152, 154, 155, 156, 157, 158, 159, 160, 161, 162, 163, 164, 165, 166, 167, 168, 169, 170, 172, 173, 174, 175, 176, 177, 178, 179, 181, 182, 183, 184, 185, 186, 187, 188, 190, 191, 192, 193, 194, 195, 196, 197, 198, 199, 200, 201, 202, 203, 204, 205, 206, 207, 208, 209, 210, 211, 212, 213, 214, 215, 216, 217, 218, 219, 220, 223, 224, 225, 226, 227, 228, 229, 230, 232, 233, 234, 235, 236, 237, 238, 239, 240, 242, 243, 244, 245, 246, 247, 248, 249, 250, 251, 252, 253, 254, 255, 256, 257, 258, 259, 260, 261, 262, 263, 264, 266, 267, 268, 269, 270, 271, 272, 273, 274, 275, 276, 277, 278, 279, 280, 281, 282, 283, 284, 285, 286, 287, 288, 289, 290, 291, 293, 294, 295, 296, 297, 298, 299, 300, 301, 302, 303, 304, 305, 306, 307, 308, 309, 310, 311, 312, 314, 315, 316, 317, 318, 319, 320, 321, 322, 323, 324, 325, 326, 327, 328, 329, 330, 331, 332, 333, 334, 335, 336, 337, 338, 339, 340, 341, 342, 343, 344, 345, 346, 347, 348, 349, 350, 351, 352, 353, 354, 355, 356, 357, 358, 359, 360, 361, 362, 363, 364, 365, 366, 367, 368, 369, 370, 371, 372, 373, 374, 375, 376, 377, 378, 379, 380, 381, 382, 383, 384, 385, 386, 387, 388, 389, 390, 391, 392, 393, 394, 395, 396, 397, 399, 400, 401, 402, 403, 404, 405, 406, 407, 408, 409, 410, 411, 412, 413, 414, 415, 416, 417, 418, 419, 420, 421, 422, 423, 424, 425, 426, 427, 428, 429, 430, 431, 432, 433, 434, 435, 436, 437, 438, 439, 440, 441, 442, 443, 444, 445, 446, 447, 448, 449, 450, 451, 452, 453, 454, 455, 456, 457, 458, 459, 460, 461, 462, 463, 464, 465, 466, 467, 468, 469, 471, 472, 473, 474, 475, 476, 477, 478, 479, 480, 481, 482, 483, 484, 486, 488, 489, 490, 491, 492, 493, 494, 495, 496, 497, 498]\n",
      "------ parents\n",
      "[]\n",
      "\n",
      "Cluster sizes were identical for lambda=1\n",
      "Cluster values are identical for lambda=1\n",
      "Cluster sizes were identical for lambda=2\n",
      "Cluster values are identical for lambda=2\n",
      "\n",
      "Validation result: The outputs of the algorithms are identical.\n"
     ]
    }
   ],
   "source": [
    "X, y = load_dataset(\"sample_dataset/mouse.csv\")\n",
    "\n",
    "# Our implementation\n",
    "cluster_info_eric = run_ERiC(X)\n",
    "# ELKI implementation\n",
    "elki_output_df1 = \"elki_df1_output.txt\"\n",
    "cluster_info_elki_eric = run_ELKI_ERiC(X, output_file=elki_output_df1)\n",
    "\n",
    "# Run validation\n",
    "validation.validate(cluster_info_eric, cluster_info_elki_eric)"
   ]
  },
  {
   "cell_type": "markdown",
   "metadata": {},
   "source": [
    "### Vary density dataset"
   ]
  },
  {
   "cell_type": "code",
   "execution_count": 4,
   "metadata": {
    "scrolled": false
   },
   "outputs": [
    {
     "name": "stdout",
     "output_type": "stream",
     "text": [
      "Run elki\n",
      "Saving ELKI results in elki_df2_output.txt\n",
      "Writing completed.\n",
      "The implementations return the same number of clusters.\n",
      "No. of clusters (our ERiC): 2\n",
      "No. of clusters (ELKI ERiC): 2\n",
      "\n",
      "The implementations return the same number of lambdas.\n",
      "No. of lambdas (our ERiC): {1: 1, 2: 1}\n",
      "No. of lambdas (ELKI ERiC): {1: 1, 2: 1}\n",
      "\n",
      "Our ERiC structure:\n",
      "Partition  1\n",
      "--- cluster 0  size: 3\n",
      "------ points\n",
      "[65, 133, 143]\n",
      "------ parents\n",
      "[2]\n",
      "Partition  2\n",
      "--- cluster 0  size: 147\n",
      "------ points\n",
      "[0, 1, 2, 3, 4, 5, 6, 7, 8, 9, 10, 11, 12, 13, 14, 15, 16, 17, 18, 19, 20, 21, 22, 23, 24, 25, 26, 27, 28, 29, 30, 31, 32, 33, 34, 35, 36, 37, 38, 39, 40, 41, 42, 43, 44, 45, 46, 47, 48, 49, 50, 51, 52, 53, 54, 55, 56, 57, 58, 59, 60, 61, 62, 63, 64, 66, 67, 68, 69, 70, 71, 72, 73, 74, 75, 76, 77, 78, 79, 80, 81, 82, 83, 84, 85, 86, 87, 88, 89, 90, 91, 92, 93, 94, 95, 96, 97, 98, 99, 100, 101, 102, 103, 104, 105, 106, 107, 108, 109, 110, 111, 112, 113, 114, 115, 116, 117, 118, 119, 120, 121, 122, 123, 124, 125, 126, 127, 128, 129, 130, 131, 132, 134, 135, 136, 137, 138, 139, 140, 141, 142, 144, 145, 146, 147, 148, 149]\n",
      "------ parents\n",
      "[]\n",
      "\n",
      "ELKI ERic structure\n",
      "Partition  1\n",
      "--- cluster 0  size: 3\n",
      "------ points\n",
      "[65, 133, 143]\n",
      "------ parents\n",
      "[2]\n",
      "Partition  2\n",
      "--- cluster 0  size: 147\n",
      "------ points\n",
      "[0, 1, 2, 3, 4, 5, 6, 7, 8, 9, 10, 11, 12, 13, 14, 15, 16, 17, 18, 19, 20, 21, 22, 23, 24, 25, 26, 27, 28, 29, 30, 31, 32, 33, 34, 35, 36, 37, 38, 39, 40, 41, 42, 43, 44, 45, 46, 47, 48, 49, 50, 51, 52, 53, 54, 55, 56, 57, 58, 59, 60, 61, 62, 63, 64, 66, 67, 68, 69, 70, 71, 72, 73, 74, 75, 76, 77, 78, 79, 80, 81, 82, 83, 84, 85, 86, 87, 88, 89, 90, 91, 92, 93, 94, 95, 96, 97, 98, 99, 100, 101, 102, 103, 104, 105, 106, 107, 108, 109, 110, 111, 112, 113, 114, 115, 116, 117, 118, 119, 120, 121, 122, 123, 124, 125, 126, 127, 128, 129, 130, 131, 132, 134, 135, 136, 137, 138, 139, 140, 141, 142, 144, 145, 146, 147, 148, 149]\n",
      "------ parents\n",
      "[]\n",
      "\n",
      "Cluster sizes were identical for lambda=1\n",
      "Cluster values are identical for lambda=1\n",
      "Cluster sizes were identical for lambda=2\n",
      "Cluster values are identical for lambda=2\n",
      "\n",
      "Validation result: The outputs of the algorithms are identical.\n"
     ]
    }
   ],
   "source": [
    "X, y = load_dataset(\"sample_dataset/vary_density.csv\")\n",
    "\n",
    "# Our implementation\n",
    "cluster_info_eric = run_ERiC(X)\n",
    "# ELKI implementation\n",
    "elki_output_df2 = \"elki_df2_output.txt\"\n",
    "cluster_info_elki_eric = run_ELKI_ERiC(X, output_file=elki_output_df2)\n",
    "\n",
    "# Run validation\n",
    "validation.validate(cluster_info_eric, cluster_info_elki_eric)"
   ]
  },
  {
   "cell_type": "markdown",
   "metadata": {},
   "source": [
    "As seen, the outputs for both sample datasets are identical."
   ]
  },
  {
   "cell_type": "code",
   "execution_count": null,
   "metadata": {},
   "outputs": [],
   "source": []
  }
 ],
 "metadata": {
  "kernelspec": {
   "display_name": "Python 3 (ipykernel)",
   "language": "python",
   "name": "python3"
  },
  "language_info": {
   "codemirror_mode": {
    "name": "ipython",
    "version": 3
   },
   "file_extension": ".py",
   "mimetype": "text/x-python",
   "name": "python",
   "nbconvert_exporter": "python",
   "pygments_lexer": "ipython3",
   "version": "3.9.12"
  }
 },
 "nbformat": 4,
 "nbformat_minor": 1
}
