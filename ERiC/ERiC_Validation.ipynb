{
 "cells": [
  {
   "cell_type": "markdown",
   "metadata": {},
   "source": [
    "## Testing and validation of ERiC implementation"
   ]
  },
  {
   "cell_type": "markdown",
   "metadata": {},
   "source": [
    "In this notebook, we test the outputs of both ELKI ERiC and our implementation of ERiC by comparing the outputs of the sample datasets from the two artificial datasets given at: https://elki-project.github.io/datasets/"
   ]
  },
  {
   "cell_type": "code",
   "execution_count": 1,
   "metadata": {
    "pycharm": {
     "is_executing": true
    }
   },
   "outputs": [],
   "source": [
    "import numpy as np\n",
    "import pandas as pd\n",
    "\n",
    "from lib import *\n",
    "\n",
    "from elki_eric import elki_eric\n",
    "import elki_parser\n",
    "import validation"
   ]
  },
  {
   "cell_type": "code",
   "execution_count": 2,
   "metadata": {},
   "outputs": [],
   "source": [
    "def load_dataset(file):\n",
    "    with open(file) as f:\n",
    "        lines = [line.rstrip() for line in f if \"#\" not in line]\n",
    "        lines = [\",\".join(line.split(\" \")) for line in lines]\n",
    "    \n",
    "    df = pd.DataFrame([sub.split(\",\") for sub in lines], columns=[\"x1\",\"x2\",\"label\"])\n",
    "    X = df[[\"x1\",\"x2\"]]\n",
    "    X = X.astype(float)\n",
    "    \n",
    "    y = df[\"label\"]\n",
    "    return X, y\n",
    "    \n",
    "    \n",
    "def run_ERiC(df, k=10, min_samples=2, delta_affine=0.5, delta_dist=0.5):\n",
    "    D = df.to_numpy(dtype=np.float64)\n",
    "    point_info, partitions = make_partitions(D, k)\n",
    "\n",
    "    models, clusters = cluster_partitions(D, partitions, point_info, delta_affine, delta_dist, min_samples)\n",
    "\n",
    "    cluster_info = compute_cluster_list(clusters, D)\n",
    "    cluster_info = build_hierarchy(cluster_info, delta_affine, delta_dist)\n",
    "    \n",
    "    return cluster_info    \n",
    "    \n",
    "    \n",
    "def run_ELKI_ERiC(df, k=10, min_samples=2, delta_affine=0.5, delta_dist=0.5, output_file=None):\n",
    "    D = df.to_numpy(dtype=np.float64)\n",
    "    \n",
    "    elki_eric(\n",
    "        X, \n",
    "        k=k, \n",
    "        dbscan_minpts=min_samples, \n",
    "        alpha=0.85, \n",
    "        delta_dist=delta_dist, \n",
    "        delta_affine=delta_affine, \n",
    "        output_file_name=output_file)\n",
    "    \n",
    "    df1_output = elki_parser.read_file(output_file)\n",
    "    cluster_info = elki_parser.parse_file(df1_output)\n",
    "    \n",
    "    return cluster_info\n",
    "    "
   ]
  },
  {
   "cell_type": "markdown",
   "metadata": {},
   "source": [
    "### Mouse dataset"
   ]
  },
  {
   "cell_type": "code",
   "execution_count": 3,
   "metadata": {
    "scrolled": true
   },
   "outputs": [],
   "source": [
    "X, y = load_dataset(\"sample_dataset/mouse.csv\")\n"
   ]
  },
  {
   "cell_type": "code",
   "execution_count": 5,
   "metadata": {},
   "outputs": [
    {
     "name": "stdout",
     "output_type": "stream",
     "text": [
      "partition:  1\n",
      "---cluster:  1  size: 24\n",
      "partition:  2\n",
      "---cluster:  1  size: 476\n"
     ]
    }
   ],
   "source": [
    "cluster_info_eric = run_ERiC(X)"
   ]
  },
  {
   "cell_type": "code",
   "execution_count": 4,
   "metadata": {},
   "outputs": [
    {
     "name": "stdout",
     "output_type": "stream",
     "text": [
      "Run elki\n",
      "Saving ELKI results in elki_df1_output.txt\n",
      "Writing completed.\n"
     ]
    }
   ],
   "source": [
    "elki_output_df1 = \"elki_df1_output.txt\"\n",
    "cluster_info_elki_eric = run_ELKI_ERiC(X, output_file=elki_output_df1)"
   ]
  },
  {
   "cell_type": "code",
   "execution_count": 6,
   "metadata": {},
   "outputs": [
    {
     "name": "stdout",
     "output_type": "stream",
     "text": [
      "The implementations return the same number of clusters.\n",
      "No. of clusters (our ERiC): 2\n",
      "No. of clusters (ELKI ERiC): 2\n",
      "\n",
      "The implementations return the same number of lambdas.\n",
      "No. of lambdas (our ERiC): {1: 1, 2: 1}\n",
      "No. of lambdas (ELKI ERiC): {1: 1, 2: 1}\n",
      "\n",
      "Cluster sizes were identical for lambda=1\n",
      "Cluster sizes were identical for lambda=2\n",
      "\n",
      "Validation result: The outputs of the algorithms are identical.\n"
     ]
    }
   ],
   "source": [
    "validation.validate(cluster_info_eric, cluster_info_elki_eric)"
   ]
  },
  {
   "cell_type": "code",
   "execution_count": 5,
   "metadata": {},
   "outputs": [
    {
     "ename": "NameError",
     "evalue": "name 'cluster_info_eric' is not defined",
     "output_type": "error",
     "traceback": [
      "\u001B[1;31m---------------------------------------------------------------------------\u001B[0m",
      "\u001B[1;31mNameError\u001B[0m                                 Traceback (most recent call last)",
      "Input \u001B[1;32mIn [5]\u001B[0m, in \u001B[0;36m<cell line: 1>\u001B[1;34m()\u001B[0m\n\u001B[1;32m----> 1\u001B[0m \u001B[43mcluster_info_eric\u001B[49m\n",
      "\u001B[1;31mNameError\u001B[0m: name 'cluster_info_eric' is not defined"
     ]
    }
   ],
   "source": [
    "cluster_info_eric"
   ]
  },
  {
   "cell_type": "code",
   "execution_count": 7,
   "metadata": {},
   "outputs": [
    {
     "data": {
      "text/plain": [
       "{1: {'lambda': 1,\n",
       "  'index': 0,\n",
       "  'points': array([ 11,  14,  27,  28,  46,  53, 129, 136, 154, 172, 181, 190, 222,\n",
       "         223, 232, 242, 266, 293, 314, 399, 471, 486, 488, 500], dtype=int32),\n",
       "  'parents': [2]},\n",
       " 2: {'lambda': 2,\n",
       "  'index': 0,\n",
       "  'points': array([ 66, 132, 264, 396, 330, 263,  67,  65, 197, 265, 395, 397, 200,\n",
       "         134, 196, 464, 394, 130, 201, 199, 133, 135, 465, 131, 463, 462,\n",
       "         458, 459, 461, 460, 268, 400,  70, 392, 260, 137, 325, 193, 195,\n",
       "          62, 398, 402,  64, 270, 258,  68, 323, 327,  72,   1, 262, 335,\n",
       "         337,   3, 333,   7, 329, 331,   5, 338,  58, 140, 321, 387, 322,\n",
       "          74,  75, 403, 139,  59, 189, 188, 274, 273, 468, 192, 456, 455,\n",
       "         204, 386, 452, 390,  55, 472, 451, 205, 467, 127, 124, 123, 209,\n",
       "         208, 334, 128, 342, 383, 119, 391, 326, 269, 407,  71, 277, 184,\n",
       "         318, 144,  63,   2,   6, 411, 261,  10,  79, 257, 253, 249, 214,\n",
       "         247, 280, 116, 182, 281, 346, 279, 480, 150, 148, 149, 312, 313,\n",
       "         443, 311, 117, 278,  51, 216, 448, 118,  52, 215, 213, 377, 378,\n",
       "         376, 375,  78, 384,  54,  13, 450, 408, 473, 475, 143, 110, 151,\n",
       "         351, 319, 483,  19, 481, 442, 440,  21, 175, 183,  76, 410, 345,\n",
       "         343, 418, 416, 246,  84,  86, 248, 254, 206, 239, 256, 157, 271,\n",
       "         238, 141, 353, 191, 272, 369, 303, 142,  60, 109, 385, 287, 304,\n",
       "         368, 207, 457, 288, 126,  45,  44, 125, 474, 433, 466,   4, 425,\n",
       "         449,  12, 490, 409,  69,  61, 401, 360, 393, 352, 482, 441,  20,\n",
       "         336, 101, 328, 320, 158, 344,  93, 166, 174,  77, 498,  85, 255,\n",
       "         417,  99,  33, 297, 165, 363, 495, 429, 428, 494, 100,  98, 364,\n",
       "         362, 230, 229, 231,  35, 365, 361, 299,  31,  32, 300,  34, 296,\n",
       "          36, 298, 294, 295, 301, 169,  29, 499, 161,  37, 491, 434, 432,\n",
       "          94, 367, 234, 102,  96, 228, 226, 236, 359, 104, 357, 167, 171,\n",
       "         497, 163, 489, 159,  92, 493, 430, 426, 424, 422, 371, 107,  91,\n",
       "         289, 173, 156, 240, 305, 436, 306, 108, 224,  26, 487, 355,  23,\n",
       "         354,  39, 225, 286, 302, 221, 220, 370, 374,  38, 290,  42,  43,\n",
       "         103, 111, 285, 350,  95,  30, 366, 310, 152, 484,  22, 358, 439,\n",
       "         237, 233, 427, 245, 435, 180, 176, 431, 492, 241, 168, 164, 160,\n",
       "         496, 415, 419,  83, 423,  87, 478, 445, 412,  50,  49, 347, 115,\n",
       "         479, 444, 477, 446,  16,  17,  18, 147, 315, 476, 447, 114,  47,\n",
       "          48, 217, 282, 113, 283, 382, 212, 381, 380, 211, 379, 276, 218,\n",
       "         120, 309, 284, 153, 112, 244, 177, 185, 187, 317, 145, 406, 414,\n",
       "          15, 155, 349, 179, 420, 339,  80,  82,  90,  88, 341, 252, 250,\n",
       "         470, 437,  25, 454, 404, 453,   8,   9, 388, 405, 438,  24,  57,\n",
       "         485, 106, 356, 138, 307, 122,  56, 373, 389, 203, 469, 121, 372,\n",
       "          41,  40, 291, 210, 292, 235, 202, 227, 194, 219, 243, 178, 275,\n",
       "         308, 267, 316, 186, 146, 105, 332,  97, 340,  89, 348, 324,  73,\n",
       "         170, 259, 413, 162, 251, 421,  81, 198], dtype=int32),\n",
       "  'parents': []}}"
      ]
     },
     "execution_count": 7,
     "metadata": {},
     "output_type": "execute_result"
    }
   ],
   "source": [
    "cluster_info_elki_eric"
   ]
  },
  {
   "cell_type": "code",
   "execution_count": null,
   "metadata": {},
   "outputs": [],
   "source": []
  }
 ],
 "metadata": {
  "kernelspec": {
   "display_name": "Python 3 (ipykernel)",
   "language": "python",
   "name": "python3"
  },
  "language_info": {
   "codemirror_mode": {
    "name": "ipython",
    "version": 3
   },
   "file_extension": ".py",
   "mimetype": "text/x-python",
   "name": "python",
   "nbconvert_exporter": "python",
   "pygments_lexer": "ipython3",
   "version": "3.9.12"
  }
 },
 "nbformat": 4,
 "nbformat_minor": 1
}
