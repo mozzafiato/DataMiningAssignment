{
 "cells": [
  {
   "cell_type": "code",
   "execution_count": 5,
   "id": "6d69af9b",
   "metadata": {},
   "outputs": [],
   "source": [
    "import networkx as nx\n",
    "import pandas as pd\n",
    "import numpy as np\n",
    "import matplotlib.pyplot as plt"
   ]
  },
  {
   "cell_type": "code",
   "execution_count": 6,
   "id": "31caf3f4",
   "metadata": {},
   "outputs": [],
   "source": [
    "def csv_to_graph(path, threshold=0.3):\n",
    "    # load in csv as dataframe\n",
    "    df = pd.read_csv(path,header=None)\n",
    "    \n",
    "    # threshold dataframe and remove diagonal\n",
    "    A = (df>threshold).astype(int) - pd.DataFrame(np.identity(df.shape[0]))\n",
    "         \n",
    "    # convert to graph\n",
    "    G = nx.from_pandas_adjacency(A)\n",
    "    \n",
    "    return A,G\n",
    "\n",
    "def load_graphs(folder):\n",
    "    #load in all graphs in folder\n",
    "    G1s, G2s = [],[]\n",
    "\n",
    "    for i in range(1,61):\n",
    "        filename = f'{folder}/p{i:03}_1.csv'\n",
    "        A, G = csv_to_graph(filename)\n",
    "        G1s.append(G)\n",
    "\n",
    "        filename = f'{folder}/p{i:03}_2.csv'\n",
    "        A, G = csv_to_graph(filename)\n",
    "        G2s.append(G)\n",
    "        \n",
    "    return G1s, G2s\n",
    "\n",
    "def save_graphs_as_adjlist(folder):\n",
    "    #load in all graphs in folder\n",
    "    G1s, G2s = [],[]\n",
    "\n",
    "    for i in range(1,61):\n",
    "        filename = f'{folder}/p{i:03}_1.csv'\n",
    "        A, G = csv_to_graph(filename)\n",
    "        nx.write_adjlist(G,f\"deepwalk/p{i:03}_1.adjlist\")\n",
    "        G1s.append(G)\n",
    "        \n",
    "\n",
    "        filename = f'{folder}/p{i:03}_2.csv'\n",
    "        A, G = csv_to_graph(filename)\n",
    "        nx.write_adjlist(G,f\"deepwalk/p{i:03}_2.adjlist\")\n",
    "        G2s.append(G)\n",
    "        \n",
    "    return G1s, G2s\n",
    "\n"
   ]
  },
  {
   "cell_type": "code",
   "execution_count": 7,
   "id": "99d8d08d",
   "metadata": {},
   "outputs": [],
   "source": [
    "G1s, G2s = save_graphs(\"FC\")"
   ]
  },
  {
   "cell_type": "code",
   "execution_count": null,
   "id": "3cbd373a",
   "metadata": {},
   "outputs": [],
   "source": []
  },
  {
   "cell_type": "code",
   "execution_count": null,
   "id": "1a466c22",
   "metadata": {},
   "outputs": [],
   "source": []
  },
  {
   "cell_type": "code",
   "execution_count": null,
   "id": "e8b31897",
   "metadata": {},
   "outputs": [],
   "source": []
  },
  {
   "cell_type": "code",
   "execution_count": 43,
   "id": "b322c4bd",
   "metadata": {},
   "outputs": [],
   "source": []
  },
  {
   "cell_type": "code",
   "execution_count": null,
   "id": "6290cafa",
   "metadata": {},
   "outputs": [],
   "source": []
  }
 ],
 "metadata": {
  "kernelspec": {
   "display_name": "Python 3 (ipykernel)",
   "language": "python",
   "name": "python3"
  },
  "language_info": {
   "codemirror_mode": {
    "name": "ipython",
    "version": 3
   },
   "file_extension": ".py",
   "mimetype": "text/x-python",
   "name": "python",
   "nbconvert_exporter": "python",
   "pygments_lexer": "ipython3",
   "version": "3.8.12"
  }
 },
 "nbformat": 4,
 "nbformat_minor": 5
}
