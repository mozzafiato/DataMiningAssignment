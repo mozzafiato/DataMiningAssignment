{
 "cells": [
  {
   "cell_type": "markdown",
   "metadata": {},
   "source": [
    "## IMDB Analysis"
   ]
  },
  {
   "cell_type": "code",
   "execution_count": 4,
   "metadata": {},
   "outputs": [],
   "source": [
    "import pandas as pd\n",
    "import numpy as np\n",
    "import networkx as nx\n",
    "import pickle\n",
    "import torch\n",
    "import os\n",
    "\n",
    "from sklearn.cluster import KMeans\n",
    "from sklearn.ensemble import RandomForestClassifier\n",
    "from sklearn.metrics import normalized_mutual_info_score\n",
    "from sklearn.metrics import accuracy_score\n",
    "\n",
    "import matplotlib.pyplot as plt\n",
    "from matplotlib.pyplot import figure"
   ]
  },
  {
   "cell_type": "markdown",
   "metadata": {},
   "source": [
    "## Task 2e\n"
   ]
  },
  {
   "cell_type": "markdown",
   "metadata": {},
   "source": [
    "### DMGI Embeddings"
   ]
  },
  {
   "cell_type": "markdown",
   "metadata": {},
   "source": [
    "In the case of the IMDB for DMGI, we require data which has a structure of the multiplex network and, in addition, node attributes. For this purpose we are using the IMDB-MULTI dataset, which is used by the authors in the original paper of DMGI. It contains 3 labels and 2 relations, in which two movies are connected with a common director (\"MDM\") or a common actor (\"MAM\"). The data can be downloaded from: https://www.dropbox.com/s/ntutrhk8nr3vveb/imdb.pkl?dl=0 and should be located in the \"\\DMGI\\data\" directory. "
   ]
  },
  {
   "cell_type": "code",
   "execution_count": 5,
   "metadata": {},
   "outputs": [],
   "source": [
    "data_path = \"..\\DMGI\\\\data\\\\imdb.pkl\"\n",
    "embedding_model_path = \"./embeddings/\"\n",
    "cwd = os.getcwd()"
   ]
  },
  {
   "cell_type": "code",
   "execution_count": 6,
   "metadata": {},
   "outputs": [],
   "source": [
    "os.chdir('..\\DMGI') \n",
    "os.system('python main.py --embedder DMGI --dataset imdb --metapaths MAM,MDM')\n",
    "os.chdir(cwd) "
   ]
  },
  {
   "cell_type": "code",
   "execution_count": 6,
   "metadata": {},
   "outputs": [
    {
     "name": "stdout",
     "output_type": "stream",
     "text": [
      "dict_keys(['label', 'MDM', 'MAM', 'train_idx', 'val_idx', 'test_idx', 'feature'])\n",
      "(3250,)\n",
      "(300,)\n"
     ]
    }
   ],
   "source": [
    "# read data info\n",
    "imdb_data = pickle.load(open(data_path, \"rb\"))\n",
    "print(imdb_data.keys())\n",
    "\n",
    "# merge both to train so we have enough data\n",
    "tr_idx = np.squeeze(imdb_data['train_idx'])\n",
    "test_idx = np.squeeze(imdb_data['test_idx'])\n",
    "train_idx = np.concatenate([tr_idx, test_idx])\n",
    "print(train_idx.shape)\n",
    "# validation \n",
    "val_idx = np.squeeze(imdb_data['val_idx'])\n",
    "print(val_idx.shape)\n",
    "\n",
    "# labels\n",
    "labels = np.argmax(imdb_data['label'], axis=1)"
   ]
  },
  {
   "cell_type": "code",
   "execution_count": 7,
   "metadata": {},
   "outputs": [],
   "source": [
    "file_imdb_original = embedding_model_path + \"best_imdb_DMGI.pkl\"\n",
    "model_imdb_original = torch.load(file_imdb_original)"
   ]
  },
  {
   "cell_type": "code",
   "execution_count": 8,
   "metadata": {},
   "outputs": [
    {
     "name": "stdout",
     "output_type": "stream",
     "text": [
      "Clustering\n",
      "NMI: 0.197263212311989\n",
      "\n",
      "Classification task:\n",
      "Train accuracy: 0.7169230769230769\n",
      "Test accuracy: 0.7033333333333334\n"
     ]
    }
   ],
   "source": [
    "X = torch.squeeze(model_imdb_original['H'])\n",
    "\n",
    "print(\"Clustering\")\n",
    "kmeans = KMeans(n_clusters=3, random_state=0).fit(X.numpy())\n",
    "print(\"NMI:\", normalized_mutual_info_score(kmeans.labels_, labels))\n",
    "\n",
    "\n",
    "X_train, y_train = X[train_idx], labels[train_idx]\n",
    "X_val, y_val = X[val_idx], labels[val_idx]\n",
    "\n",
    "print(\"\")\n",
    "print(\"Classification task:\")\n",
    "rf = RandomForestClassifier(n_estimators = 150, max_depth=5, random_state = 42)\n",
    "rf.fit(X_train, y_train)\n",
    "\n",
    "pred = rf.predict(X_train)\n",
    "print(\"Train accuracy:\", accuracy_score(pred, y_train))\n",
    "pred = rf.predict(X_val)\n",
    "print(\"Test accuracy:\", accuracy_score(pred, y_val))"
   ]
  },
  {
   "cell_type": "markdown",
   "metadata": {},
   "source": [
    "The NMI is quite low, indicating that the two cluster obtained from the KMeans algorithm does not match with the true labels. The classification is in general better, as the accuracy score of around 0.7."
   ]
  },
  {
   "cell_type": "markdown",
   "metadata": {},
   "source": [
    "## Task 2f\n",
    "\n"
   ]
  },
  {
   "cell_type": "markdown",
   "metadata": {},
   "source": [
    "## Additional features"
   ]
  },
  {
   "cell_type": "markdown",
   "metadata": {},
   "source": [
    "We have added 10 additional features, one for each relation, i.e graph (MAM and MDM). The features include the clustering coefficient of the graph and four centrality measures. We have looked at two scenarios: using these features only and using them together with the initial ones. "
   ]
  },
  {
   "cell_type": "code",
   "execution_count": 9,
   "metadata": {},
   "outputs": [],
   "source": [
    "imdb_data = pickle.load(open(data_path, \"rb\"))\n",
    "A_MDM = imdb_data['MDM']\n",
    "A_MAM = imdb_data['MAM']\n",
    "\n",
    "A_MDM = pd.DataFrame(data=A_MDM)\n",
    "A_MAM = pd.DataFrame(data=A_MAM)\n",
    "\n",
    "G_MDM = nx.from_pandas_adjacency(A_MDM)\n",
    "G_MAM = nx.from_pandas_adjacency(A_MAM)\n",
    "\n",
    "Gs = [G_MDM, G_MAM]\n",
    "n = Gs[0].number_of_nodes()"
   ]
  },
  {
   "cell_type": "code",
   "execution_count": 10,
   "metadata": {},
   "outputs": [],
   "source": [
    "additional_features_all = []\n",
    "for G in Gs:\n",
    "    clustering = nx.clustering(G)\n",
    "    deg_centrality = nx.degree_centrality(G)\n",
    "    close_centrality = nx.closeness_centrality(G)\n",
    "    bet_centrality = nx.betweenness_centrality(G, normalized = True, endpoints = False)\n",
    "    pagerank = nx.pagerank(G, alpha=0.8)\n",
    "    \n",
    "    node_properties = [clustering, deg_centrality, close_centrality, bet_centrality, pagerank]\n",
    "    additional_features = np.zeros((n, 5))\n",
    "\n",
    "    for i in range(3550):\n",
    "        for j, feature in enumerate(node_properties):\n",
    "            additional_features[i][j] = feature[i]\n",
    "    additional_features_all.append(additional_features)"
   ]
  },
  {
   "cell_type": "code",
   "execution_count": 11,
   "metadata": {},
   "outputs": [
    {
     "name": "stdout",
     "output_type": "stream",
     "text": [
      "Original: (3550, 2000)\n",
      "Original+additional: (3550, 2010)\n",
      "Additional only: (3550, 10)\n"
     ]
    }
   ],
   "source": [
    "features = imdb_data['feature']\n",
    "print(\"Original:\", imdb_data['feature'].shape)\n",
    "\n",
    "features_all = np.c_[features, additional_features_all[0], additional_features_all[1]]\n",
    "imdb_data['feature'] = features_all\n",
    "pickle.dump(imdb_data, open('../DMGI/data/imdb_additional_all.pkl', 'wb'), protocol=pickle.HIGHEST_PROTOCOL)\n",
    "print(\"Original+additional:\", imdb_data['feature'].shape)\n",
    "\n",
    "imdb_data['feature'] = np.c_[additional_features_all[0], additional_features_all[1]]\n",
    "pickle.dump(imdb_data, open('../DMGI/data/imdb_additional_only.pkl', 'wb'), protocol=pickle.HIGHEST_PROTOCOL)\n",
    "print(\"Additional only:\", imdb_data['feature'].shape)"
   ]
  },
  {
   "cell_type": "markdown",
   "metadata": {},
   "source": [
    "Note: As only DMGI is compatible for using the node attributes for creating the embeddings, this part is only applicable for the DMGI algorithm."
   ]
  },
  {
   "cell_type": "code",
   "execution_count": 12,
   "metadata": {},
   "outputs": [],
   "source": [
    "# run_algorithm\n",
    "os.chdir('..\\DMGI') \n",
    "os.system('python main.py --embedder DMGI --dataset imdb_additional_all --metapaths MAM,MDM')\n",
    "os.system('python main.py --embedder DMGI --dataset imdb_additional_only --metapaths MAM,MDM')\n",
    "os.chdir(cwd) "
   ]
  },
  {
   "cell_type": "code",
   "execution_count": 13,
   "metadata": {},
   "outputs": [],
   "source": [
    "file_imdb_all = embedding_model_path + \"best_imdb_additional_all_DMGI.pkl\"\n",
    "model_imdb_all = torch.load(file_imdb_all)\n",
    "\n",
    "file_imdb_only = embedding_model_path + \"best_imdb_additional_only_DMGI.pkl\"\n",
    "model_imdb_only = torch.load(file_imdb_only)"
   ]
  },
  {
   "cell_type": "code",
   "execution_count": 14,
   "metadata": {},
   "outputs": [
    {
     "name": "stdout",
     "output_type": "stream",
     "text": [
      "Additional features only\n",
      "Clustering\n",
      "NMI: 0.004875271429108782\n",
      "\n",
      "Classification task:\n",
      "Train accuracy: 0.5172307692307693\n",
      "Test accuracy: 0.36666666666666664\n",
      "============================\n",
      "All features\n",
      "Clustering\n",
      "NMI: 0.1969904722492379\n",
      "\n",
      "Classification task:\n",
      "Train accuracy: 0.708\n",
      "Test accuracy: 0.7033333333333334\n",
      "============================\n"
     ]
    }
   ],
   "source": [
    "names = [\"Additional features only\", \"All features\"]\n",
    "for i, model in enumerate([model_imdb_only, model_imdb_all]):\n",
    "    print(names[i])\n",
    "    X = torch.squeeze(model['H'])\n",
    "\n",
    "    print(\"Clustering\")\n",
    "    kmeans = KMeans(n_clusters=3, random_state=0).fit(X.numpy())\n",
    "    print(\"NMI:\", normalized_mutual_info_score(kmeans.labels_, labels))\n",
    "\n",
    "\n",
    "    X_train, y_train = X[train_idx], labels[train_idx]\n",
    "    X_val, y_val = X[val_idx], labels[val_idx]\n",
    "\n",
    "    print(\"\")\n",
    "    print(\"Classification task:\")\n",
    "    rf = RandomForestClassifier(n_estimators = 150, max_depth=5, random_state = 42)\n",
    "    rf.fit(X_train, y_train)\n",
    "\n",
    "    pred = rf.predict(X_train)\n",
    "    print(\"Train accuracy:\", accuracy_score(pred, y_train))\n",
    "    pred = rf.predict(X_val)\n",
    "    print(\"Test accuracy:\", accuracy_score(pred, y_val))\n",
    "\n",
    "    print(\"============================\")"
   ]
  },
  {
   "cell_type": "markdown",
   "metadata": {},
   "source": [
    "Now, instead of adding the additional features for computing the embeddings, we try to add the node properties information to the embedding, i.e to concatinate them together. "
   ]
  },
  {
   "cell_type": "code",
   "execution_count": 15,
   "metadata": {},
   "outputs": [
    {
     "name": "stdout",
     "output_type": "stream",
     "text": [
      "Additional features only\n",
      "Clustering\n",
      "NMI: 0.0034405386815072976\n",
      "\n",
      "Classification task:\n",
      "Train accuracy: 0.49938461538461537\n",
      "Test accuracy: 0.41\n",
      "============================\n",
      "All features\n",
      "Clustering\n",
      "NMI: 0.1966942642406\n",
      "\n",
      "Classification task:\n",
      "Train accuracy: 0.7187692307692307\n",
      "Test accuracy: 0.7166666666666667\n",
      "============================\n"
     ]
    }
   ],
   "source": [
    "X = torch.squeeze(model_imdb_original['H'])\n",
    "X1 = np.c_[additional_features_all[0], additional_features_all[1]]\n",
    "X2 = np.c_[X, additional_features_all[0], additional_features_all[1]]\n",
    "\n",
    "for i, X in enumerate([X1, X2]):\n",
    "\n",
    "    print(names[i])\n",
    "        \n",
    "    print(\"Clustering\")\n",
    "    kmeans = KMeans(n_clusters=3, random_state=0).fit(X)\n",
    "    print(\"NMI:\", normalized_mutual_info_score(kmeans.labels_, labels))\n",
    "\n",
    "    X_train, y_train = X[train_idx], labels[train_idx]\n",
    "    X_val, y_val = X[val_idx], labels[val_idx]\n",
    "\n",
    "    print(\"\")\n",
    "    print(\"Classification task:\")\n",
    "    rf = RandomForestClassifier(n_estimators = 150, max_depth=5, random_state = 42)\n",
    "    rf.fit(X_train, y_train)\n",
    "\n",
    "    pred = rf.predict(X_train)\n",
    "    print(\"Train accuracy:\", accuracy_score(pred, y_train))\n",
    "    pred = rf.predict(X_val)\n",
    "    print(\"Test accuracy:\", accuracy_score(pred, y_val))\n",
    "    \n",
    "    print(\"============================\")"
   ]
  },
  {
   "cell_type": "markdown",
   "metadata": {},
   "source": [
    "It seems that when using the additional information, such as the clustering coeffient and the centrality measures, in all cases, does not improve the model's accuracy in predicting the labels, which suggests that the labels are not connected with the structure of the graph, which mathces our findings in Task 1."
   ]
  },
  {
   "cell_type": "markdown",
   "metadata": {},
   "source": [
    "### Structure analysis (clustering coefficient, centrality measures)"
   ]
  },
  {
   "cell_type": "markdown",
   "metadata": {},
   "source": [
    "To further investigate this, we produce plots in order to see the distribution of these features for each label separately and for both relation graphs."
   ]
  },
  {
   "cell_type": "code",
   "execution_count": 29,
   "metadata": {
    "scrolled": false
   },
   "outputs": [
    {
     "name": "stdout",
     "output_type": "stream",
     "text": [
      "Clustering coefficient\n"
     ]
    },
    {
     "data": {
      "text/plain": [
       "<Figure size 960x400 with 0 Axes>"
      ]
     },
     "metadata": {},
     "output_type": "display_data"
    },
    {
     "data": {
      "image/png": "[encoded data removed]",
      "text/plain": [
       "<Figure size 1200x400 with 3 Axes>"
      ]
     },
     "metadata": {
      "needs_background": "light"
     },
     "output_type": "display_data"
    },
    {
     "name": "stdout",
     "output_type": "stream",
     "text": [
      "Degree centrality\n"
     ]
    },
    {
     "data": {
      "image/png": "[encoded data removed]",
      "text/plain": [
       "<Figure size 1200x400 with 3 Axes>"
      ]
     },
     "metadata": {
      "needs_background": "light"
     },
     "output_type": "display_data"
    },
    {
     "name": "stdout",
     "output_type": "stream",
     "text": [
      "Close centrality\n"
     ]
    },
    {
     "data": {
      "image/png": "[encoded data removed]",
      "text/plain": [
       "<Figure size 1200x400 with 3 Axes>"
      ]
     },
     "metadata": {
      "needs_background": "light"
     },
     "output_type": "display_data"
    },
    {
     "name": "stdout",
     "output_type": "stream",
     "text": [
      "Betweeness centrality\n"
     ]
    },
    {
     "data": {
      "image/png": "[encoded data removed]",
      "text/plain": [
       "<Figure size 1200x400 with 3 Axes>"
      ]
     },
     "metadata": {
      "needs_background": "light"
     },
     "output_type": "display_data"
    },
    {
     "name": "stdout",
     "output_type": "stream",
     "text": [
      "PageRank\n"
     ]
    },
    {
     "data": {
      "image/png": "[encoded data removed]",
      "text/plain": [
       "<Figure size 1200x400 with 3 Axes>"
      ]
     },
     "metadata": {
      "needs_background": "light"
     },
     "output_type": "display_data"
    }
   ],
   "source": [
    "figure(figsize=(12, 5), dpi=80)\n",
    "data = torch.squeeze(model_imdb_only['H'])\n",
    "features = [\"Clustering coefficient\", \"Degree centrality\", \"Close centrality\", \"Betweeness centrality\", \"PageRank\"]\n",
    "for i in range(5):\n",
    "    print(features[i])\n",
    "    f = figure(figsize=(15, 5), dpi=80)\n",
    "    for label in [0, 1, 2]:\n",
    "        plt.subplot(1, 3, label+1)\n",
    "        indexes = np.where(labels==label)[0].tolist() \n",
    "        \n",
    "        plt.hist(data[indexes, i].numpy(), alpha=0.8, label=\"MDM\")\n",
    "        plt.hist(data[indexes, i+5].numpy(), alpha=0.8, label=\"MAM\")\n",
    "        plt.title(\"Label:\" + str(label))\n",
    "        plt.legend()\n",
    "    plt.show()"
   ]
  },
  {
   "cell_type": "markdown",
   "metadata": {},
   "source": [
    "One can observe that the two graphs have quite different node feature values in some of the cases, e.g. clustering coefficient, degree centrality and betweeness centrality. Label-wise in most cases it seems that there aren't apparent differences, apart from the PageRank feature, where the MDM graph has low values for label 1, and high values for label 0 and 2."
   ]
  },
  {
   "cell_type": "code",
   "execution_count": null,
   "metadata": {},
   "outputs": [],
   "source": []
  }
 ],
 "metadata": {
  "kernelspec": {
   "display_name": "Python 3 (ipykernel)",
   "language": "python",
   "name": "python3"
  },
  "language_info": {
   "codemirror_mode": {
    "name": "ipython",
    "version": 3
   },
   "file_extension": ".py",
   "mimetype": "text/x-python",
   "name": "python",
   "nbconvert_exporter": "python",
   "pygments_lexer": "ipython3",
   "version": "3.9.12"
  }
 },
 "nbformat": 4,
 "nbformat_minor": 1
}
