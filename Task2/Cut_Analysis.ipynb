{
 "cells": [
  {
   "cell_type": "markdown",
   "id": "469ffe77",
   "metadata": {},
   "source": [
    "# Task 2c"
   ]
  },
  {
   "cell_type": "code",
   "execution_count": null,
   "id": "da74c591",
   "metadata": {
    "pycharm": {
     "is_executing": true
    }
   },
   "outputs": [],
   "source": [
    "import torch\n",
    "import os\n",
    "import networkx as nx\n",
    "import pandas as pd\n",
    "import numpy as np\n",
    "from matplotlib import pyplot as plt\n",
    "from sklearn.cluster import KMeans\n",
    "from sklearn.metrics import normalized_mutual_info_score\n",
    "from scipy.stats import describe\n",
    "import ncut\n",
    "from itertools import product"
   ]
  },
  {
   "cell_type": "markdown",
   "id": "bda9fcf4",
   "metadata": {},
   "source": [
    "### Loading the graphs"
   ]
  },
  {
   "cell_type": "code",
   "execution_count": 11,
   "id": "31caf3f4",
   "metadata": {},
   "outputs": [],
   "source": [
    "def csv_to_graph(path, threshold=0.3):\n",
    "    # load in csv as dataframe\n",
    "    df = pd.read_csv(path,header=None)\n",
    "    \n",
    "    # threshold dataframe and remove diagonal\n",
    "    A = (df>threshold).astype(int) - pd.DataFrame(np.identity(df.shape[0]))\n",
    "         \n",
    "    # convert to graph\n",
    "    G = nx.from_pandas_adjacency(A)\n",
    "    \n",
    "    return G\n",
    "\n",
    "def load_graphs(folder):\n",
    "    #load in all graphs in folder\n",
    "    G1s, G2s = [],[]\n",
    "\n",
    "    for i in range(1,61):\n",
    "        filename = f'{folder}/p{i:03}_1.csv'\n",
    "        G1s.append(csv_to_graph(filename))\n",
    "\n",
    "        filename = f'{folder}/p{i:03}_2.csv'\n",
    "        G2s.append(csv_to_graph(filename))\n",
    "        \n",
    "    return G1s, G2s\n",
    "\n",
    "G1s, G2s = load_graphs(\"FC\")"
   ]
  },
  {
   "cell_type": "code",
   "execution_count": 12,
   "id": "dc2da803",
   "metadata": {},
   "outputs": [],
   "source": [
    "def graph_list_to_multigraph(graphs):\n",
    "    G = nx.MultiGraph()\n",
    "    for subgraph in graphs:\n",
    "        G.add_nodes_from(subgraph.nodes)\n",
    "        G.add_edges_from(subgraph.edges)\n",
    "    return G"
   ]
  },
  {
   "cell_type": "code",
   "execution_count": 13,
   "id": "c8a96d3c",
   "metadata": {},
   "outputs": [],
   "source": [
    "G1 = graph_list_to_multigraph(G1s)\n",
    "G2 = graph_list_to_multigraph(G2s)"
   ]
  },
  {
   "cell_type": "markdown",
   "id": "62addf4f",
   "metadata": {},
   "source": [
    "### Loading the embeddings"
   ]
  },
  {
   "cell_type": "code",
   "execution_count": 14,
   "id": "28fafab7",
   "metadata": {},
   "outputs": [],
   "source": [
    "EMBEDDING_DIR = \"embeddings\"\n",
    "G1_PATH = \"best_G1_DMGI.pkl\"\n",
    "G2_PATH = \"best_G2_DMGI.pkl\"\n"
   ]
  },
  {
   "cell_type": "code",
   "execution_count": 18,
   "id": "3864726a",
   "metadata": {},
   "outputs": [],
   "source": [
    "EMBEDDING_DIR2 = os.path.join(\"embeddings\", \"deepwalk\")\n",
    "G1_PATH2 = \"G1.csv\"\n",
    "G2_PATH2 = \"G2.csv\""
   ]
  },
  {
   "cell_type": "code",
   "execution_count": 19,
   "id": "a77db311",
   "metadata": {},
   "outputs": [],
   "source": [
    "g1_model = torch.load(os.path.join(EMBEDDING_DIR, G1_PATH))\n",
    "g1_embedding = g1_model['H'].squeeze()\n",
    "\n",
    "g2_model = torch.load(os.path.join(EMBEDDING_DIR, G2_PATH))\n",
    "g2_embedding = g2_model['H'].squeeze()"
   ]
  },
  {
   "cell_type": "code",
   "execution_count": 20,
   "id": "c7209cb8",
   "metadata": {},
   "outputs": [],
   "source": [
    "g1_embedding2 = pd.read_csv(os.path.join(EMBEDDING_DIR2, G1_PATH2))\n",
    "g2_embedding2 = pd.read_csv(os.path.join(EMBEDDING_DIR2, G2_PATH2))"
   ]
  },
  {
   "cell_type": "markdown",
   "id": "8d817b6d",
   "metadata": {},
   "source": [
    "### Loading additional clinical data"
   ]
  },
  {
   "cell_type": "code",
   "execution_count": 53,
   "id": "69d4d207",
   "metadata": {},
   "outputs": [],
   "source": [
    "clinical_csv = pd.read_csv(\"clinical.csv\")"
   ]
  },
  {
   "cell_type": "markdown",
   "id": "74f1c71d",
   "metadata": {},
   "source": [
    "## Validation of our NCut implementation\n",
    "We validate our implementation of NCut against networkx by comparing the NCut values of random graph partitions. The reason for restricting ourselves to binary partitions is that the networkx function normalized_cut_size is only applicable to binary partitions."
   ]
  },
  {
   "cell_type": "code",
   "execution_count": 22,
   "id": "d851113a",
   "metadata": {},
   "outputs": [
    {
     "name": "stdout",
     "output_type": "stream",
     "text": [
      "Checking random partition no. 0\n",
      "Checking random partition no. 1\n",
      "Checking random partition no. 2\n",
      "Checking random partition no. 3\n",
      "Checking random partition no. 4\n",
      "Checking random partition no. 5\n",
      "Checking random partition no. 6\n",
      "Checking random partition no. 7\n",
      "Checking random partition no. 8\n",
      "Checking random partition no. 9\n",
      "\n",
      "Our results were identical to those of networkx for 10 random partitions.\n"
     ]
    }
   ],
   "source": [
    "# binary partitions validation on multigraphs\n",
    "\n",
    "identical = True\n",
    "graphs = [G1, G2]\n",
    "\n",
    "n_checks = 10\n",
    "precision = 1e-10\n",
    "\n",
    "for i in range(n_checks):\n",
    "\n",
    "        print(f\"Checking random partition no. {i}\")\n",
    "        clustering = np.random.randint(0, 2, size=len(G1.nodes))\n",
    "        \n",
    "        nodes1 = np.where(clustering==0)[0]\n",
    "        nodes2 = np.where(clustering==1)[0]\n",
    "\n",
    "        for graph in graphs:\n",
    "            nx_result = nx.normalized_cut_size(graph, nodes1, nodes2)\n",
    "            our_result = ncut.ncut_multigraph(graph, nodes1, nodes2)\n",
    "            our_k_result = ncut.k_ncut_multigraph(graph, np.asarray([nodes1, nodes2], dtype=object))\n",
    "            \n",
    "            if abs(our_result - nx_result) > precision or abs(our_k_result - nx_result) > precision:\n",
    "                identical = False\n",
    "                break\n",
    "        \n",
    "        else:\n",
    "            continue\n",
    "        \n",
    "        break\n",
    "\n",
    "print(f\"\\nOur results were{' ' if identical else ' not '}identical to those of networkx for {n_checks} random partitions.\")"
   ]
  },
  {
   "cell_type": "markdown",
   "id": "25815ab0",
   "metadata": {},
   "source": [
    "After validating our NCut implementation on multigraphs, we do the same for the individual patient graphs."
   ]
  },
  {
   "cell_type": "code",
   "execution_count": 23,
   "id": "95005135",
   "metadata": {},
   "outputs": [
    {
     "name": "stdout",
     "output_type": "stream",
     "text": [
      "Checking random partition no. 0\n",
      "Checking random partition no. 1\n",
      "Checking random partition no. 2\n",
      "Checking random partition no. 3\n",
      "Checking random partition no. 4\n",
      "Checking random partition no. 5\n",
      "Checking random partition no. 6\n",
      "Checking random partition no. 7\n",
      "Checking random partition no. 8\n",
      "Checking random partition no. 9\n",
      "\n",
      "Our results were identical to those of networkx for 10 random partitions.\n"
     ]
    }
   ],
   "source": [
    "# binary partitions validation on single graphs\n",
    "\n",
    "identical = True\n",
    "graphs = [G1s, G2s]\n",
    "\n",
    "n_checks = 10\n",
    "precision = 1e-10\n",
    "\n",
    "for i in range(n_checks):\n",
    "    \n",
    "        print(f\"Checking random partition no. {i}\")\n",
    "        clustering = np.random.randint(0, 2, size=len(G1.nodes))\n",
    "        \n",
    "        for graph in graphs:\n",
    "            for subgraph in graph:\n",
    "\n",
    "                nodes1 = np.where(clustering==0)[0]\n",
    "                nodes2 = np.where(clustering==1)[0]\n",
    "\n",
    "                nx_result = nx.normalized_cut_size(subgraph, nodes1, nodes2)\n",
    "                our_result = ncut.ncut_multigraph(subgraph, nodes1, nodes2)\n",
    "                our_k_result = ncut.k_ncut_multigraph(subgraph, np.asarray([nodes1, nodes2], dtype=object))\n",
    "\n",
    "                if abs(our_result - nx_result) > precision or \\\n",
    "                    abs(our_k_result - nx_result) > precision or \\\n",
    "                    abs(our_result - nx_result) > precision:\n",
    "                        \n",
    "                    identical = False\n",
    "                    break\n",
    "        \n",
    "        else:\n",
    "            continue\n",
    "        \n",
    "        break\n",
    "\n",
    "print(f\"\\nOur results were{' ' if identical else ' not '}identical to those of networkx for {n_checks} random partitions.\")"
   ]
  },
  {
   "cell_type": "markdown",
   "id": "c3bea357",
   "metadata": {},
   "source": [
    "## Clustering the data\n",
    "We cluster the embeddings with KMeans with different cluster values (i.e. the n_clusters parameter) between 2 and 20 and compare the results with the NCut value. To find out the NCut value of more than two partitions, we implement the k_NCut value, which is an extension of the NCut for two partitions. When comparing different cluster values, it seems that higher cluster values always lead to higher NCut values. This seems intuitive, as a higher cluster value means that there are more edges between clusters rather than within clusters. \\\n",
    "\\\n",
    "When we try to use the k_Ncut value to compare the clusterings, it appears that the best cluster value is 2, since it has the lowest amount of inter-cluster connectivity divided by intra-cluster connectivity."
   ]
  },
  {
   "cell_type": "code",
   "execution_count": 24,
   "id": "a512b82e",
   "metadata": {},
   "outputs": [],
   "source": [
    "def ncut_by_k_partition(graph, partition):\n",
    "    \"\"\"Helper function to generate the right input structure for ncut.k_ncut_multigraph\"\"\"\n",
    "    node_lists = np.asarray([np.where(partition == value)[0] for value in np.unique(partition)], dtype=object)\n",
    "    return ncut.k_ncut_multigraph(graph, node_lists)"
   ]
  },
  {
   "cell_type": "markdown",
   "id": "26e6f0c8",
   "metadata": {},
   "source": [
    "### DMGI embeddings\n",
    "For all cluster values, it seems that the NCut results are slightly lower for the second graph: This is surprising, as we expect the patients' functional connectivity between different brain regions to be increased after the intervention, while the NCut-value seems to show the opposite. The reason for this might be that connectivity inside the cluster is even more increased than between the clusters. However, it needs to be noted that the clusterings are very different between the two graphs (for a comparison, see the section about NMIs) and this might also play a role."
   ]
  },
  {
   "cell_type": "code",
   "execution_count": 25,
   "id": "0c9b4150",
   "metadata": {},
   "outputs": [],
   "source": [
    "n_clusters = range(2, 20)\n",
    "\n",
    "kmeans_ncut_results = []\n",
    "\n",
    "for n in n_clusters:\n",
    "    kmeans = KMeans(n_clusters=n, n_init=10)\n",
    "    clustering1 = kmeans.fit_predict(g1_embedding)\n",
    "    clustering2 = kmeans.fit_predict(g2_embedding)\n",
    "    g1_ncut = ncut_by_k_partition(G1, clustering1)\n",
    "    g2_ncut = ncut_by_k_partition(G2, clustering2)\n",
    "    kmeans_ncut_results.append((f\"KMeans n_clusters={n}\", g1_ncut, g2_ncut, clustering1, clustering2))"
   ]
  },
  {
   "cell_type": "code",
   "execution_count": 26,
   "id": "4b7609fc",
   "metadata": {},
   "outputs": [
    {
     "name": "stdout",
     "output_type": "stream",
     "text": [
      "('KMeans n_clusters=2', 0.9641499975801373, 0.6615836198253547)\n",
      "('KMeans n_clusters=3', 2.004927662979731, 1.5799885317808782)\n",
      "('KMeans n_clusters=4', 2.9790809215881957, 2.6634369152461255)\n",
      "('KMeans n_clusters=5', 4.0179075143264384, 3.606420299288393)\n",
      "('KMeans n_clusters=6', 4.919152183910789, 4.641739604645354)\n",
      "('KMeans n_clusters=7', 6.0023728212361895, 5.67687562566527)\n",
      "('KMeans n_clusters=8', 7.05063664927966, 6.6369758194064135)\n",
      "('KMeans n_clusters=9', 7.9189108746399945, 7.813814051126349)\n",
      "('KMeans n_clusters=10', 9.009295139980152, 8.702179690462122)\n",
      "('KMeans n_clusters=11', 9.983564042438122, 9.784246195828723)\n",
      "('KMeans n_clusters=12', 10.898018969652849, 10.620592650936395)\n",
      "('KMeans n_clusters=13', 12.06509846702373, 11.750046439079505)\n",
      "('KMeans n_clusters=14', 13.043930200119709, 12.89536942520423)\n",
      "('KMeans n_clusters=15', 14.044201370111605, 13.778201630642274)\n",
      "('KMeans n_clusters=16', 15.006249313709498, 14.741124194792398)\n",
      "('KMeans n_clusters=17', 16.041199566864325, 15.718488002153038)\n",
      "('KMeans n_clusters=18', 17.11086189977529, 16.892794027727255)\n",
      "('KMeans n_clusters=19', 18.057168596288214, 17.933898232394508)\n"
     ]
    }
   ],
   "source": [
    "for result in kmeans_ncut_results:\n",
    "    print(result[:3])"
   ]
  },
  {
   "cell_type": "markdown",
   "id": "85a78c90",
   "metadata": {},
   "source": [
    "#### Hemisphere cluster correspondence"
   ]
  },
  {
   "cell_type": "markdown",
   "id": "97536e79",
   "metadata": {},
   "source": [
    "For the binary clustering, we checked whether the clusters correspond to the hemispheres in the brain. As stated in the file AAL_labels.csv, odd indices correspond to left hempishere region and even indices to right hemisphere regions, apart from the Cerebellar Vermis. It appears that there is no connection between the cluster labels and the hemisphere for the first graph as well the second graph.\n",
    "\n",
    "After treatment the clusters are not equally sized anymore but cluster 1 increases by 50%."
   ]
  },
  {
   "cell_type": "code",
   "execution_count": 27,
   "id": "2c7e7b0e",
   "metadata": {},
   "outputs": [
    {
     "name": "stdout",
     "output_type": "stream",
     "text": [
      "Fraction of the left hemisphere which belongs to cluster 1: 0.6851851851851852\n",
      "Fraction of the left hemisphere which belongs to cluster 2: 0.3148148148148148\n",
      "\n",
      "Fraction of the right hemisphere which belongs to cluster 1: 0.5740740740740741\n",
      "Fraction of the right hemisphere which belongs to cluster 2: 0.42592592592592593\n",
      "\n",
      "Fraction of the cerebellar vermis which belongs to cluster 1: 0.625\n",
      "Fraction of the cerebellar vermis which belongs to cluster 2: 0.375\n"
     ]
    }
   ],
   "source": [
    "clustering_DMGI_G1 = kmeans_ncut_results[0][3]\n",
    "\n",
    "even_indices = clustering_DMGI_G1[:108:2]\n",
    "print(f\"Fraction of the left hemisphere which belongs to cluster 1: {sum(even_indices==0)/len(even_indices)}\")\n",
    "print(f\"Fraction of the left hemisphere which belongs to cluster 2: {sum(even_indices==1)/len(even_indices)}\")\n",
    "print()\n",
    "\n",
    "odd_indices =  clustering_DMGI_G1[1:108:2]\n",
    "print(f\"Fraction of the right hemisphere which belongs to cluster 1: {sum(odd_indices==0)/len(odd_indices)}\")\n",
    "print(f\"Fraction of the right hemisphere which belongs to cluster 2: {sum(odd_indices==1)/len(odd_indices)}\")\n",
    "\n",
    "print()\n",
    "\n",
    "cerebellum_indices = clustering_DMGI_G1[108::]\n",
    "print(f\"Fraction of the cerebellar vermis which belongs to cluster 1: {sum(cerebellum_indices==0)/len(cerebellum_indices)}\")\n",
    "print(f\"Fraction of the cerebellar vermis which belongs to cluster 2: {sum(cerebellum_indices==1)/len(cerebellum_indices)}\")"
   ]
  },
  {
   "cell_type": "code",
   "execution_count": 28,
   "id": "1648f507",
   "metadata": {},
   "outputs": [
    {
     "name": "stdout",
     "output_type": "stream",
     "text": [
      "Fraction of the left hemisphere which belongs to cluster 1: 0.2777777777777778\n",
      "Fraction of the left hemisphere which belongs to cluster 2: 0.7222222222222222\n",
      "\n",
      "Fraction of the right hemisphere which belongs to cluster 1: 0.2777777777777778\n",
      "Fraction of the right hemisphere which belongs to cluster 2: 0.7222222222222222\n",
      "\n",
      "Fraction of the cerebellar vermis which belongs to cluster 1: 1.0\n",
      "Fraction of the cerebellar vermis which belongs to cluster 2: 0.0\n"
     ]
    }
   ],
   "source": [
    "clustering_DMGI_G2 = kmeans_ncut_results[0][4]\n",
    "\n",
    "even_indices = clustering_DMGI_G2[:108:2]\n",
    "print(f\"Fraction of the left hemisphere which belongs to cluster 1: {sum(even_indices==0)/len(even_indices)}\")\n",
    "print(f\"Fraction of the left hemisphere which belongs to cluster 2: {sum(even_indices==1)/len(even_indices)}\")\n",
    "print()\n",
    "\n",
    "odd_indices =  clustering_DMGI_G2[1:108:2]\n",
    "print(f\"Fraction of the right hemisphere which belongs to cluster 1: {sum(odd_indices==0)/len(odd_indices)}\")\n",
    "print(f\"Fraction of the right hemisphere which belongs to cluster 2: {sum(odd_indices==1)/len(odd_indices)}\")\n",
    "\n",
    "print()\n",
    "\n",
    "cerebellum_indices = clustering_DMGI_G2[108::]\n",
    "print(f\"Fraction of the cerebellar vermis which belongs to cluster 1: {sum(cerebellum_indices==0)/len(cerebellum_indices)}\")\n",
    "print(f\"Fraction of the cerebellar vermis which belongs to cluster 2: {sum(cerebellum_indices==1)/len(cerebellum_indices)}\")"
   ]
  },
  {
   "cell_type": "markdown",
   "id": "1998b05d",
   "metadata": {},
   "source": [
    "### Deepwalk_embeddings"
   ]
  },
  {
   "cell_type": "code",
   "execution_count": 29,
   "id": "40935b1d",
   "metadata": {},
   "outputs": [],
   "source": [
    "kmeans_ncut_results2 = []\n",
    "\n",
    "for n in n_clusters:\n",
    "    kmeans = KMeans(n_clusters=n, n_init=10)\n",
    "    clustering1 = kmeans.fit_predict(g1_embedding2)\n",
    "    clustering2 = kmeans.fit_predict(g2_embedding2)\n",
    "    g1_ncut = ncut_by_k_partition(G1, clustering1)\n",
    "    g2_ncut = ncut_by_k_partition(G2, clustering2)\n",
    "    kmeans_ncut_results2.append((f\"KMeans n_clusters={n}\", g1_ncut, g2_ncut, clustering1, clustering2))"
   ]
  },
  {
   "cell_type": "code",
   "execution_count": 30,
   "id": "2268658b",
   "metadata": {},
   "outputs": [
    {
     "name": "stdout",
     "output_type": "stream",
     "text": [
      "('KMeans n_clusters=2', 0.820246617737858, 0.8042759676805062)\n",
      "('KMeans n_clusters=3', 1.436341914360783, 1.411777115153281)\n",
      "('KMeans n_clusters=4', 2.1701846022760685, 2.1313829786860286)\n",
      "('KMeans n_clusters=5', 3.100209109778881, 3.015334490661229)\n",
      "('KMeans n_clusters=6', 3.9112444900303927, 3.739448607988603)\n",
      "('KMeans n_clusters=7', 4.863879869498632, 4.734529135825166)\n",
      "('KMeans n_clusters=8', 5.526020416855504, 5.495878474397954)\n",
      "('KMeans n_clusters=9', 6.659052495513469, 6.582577616650722)\n",
      "('KMeans n_clusters=10', 7.4170779599991095, 7.436001304785729)\n",
      "('KMeans n_clusters=11', 8.483456884451432, 8.306497475474824)\n",
      "('KMeans n_clusters=12', 9.278219426849338, 9.220925923348958)\n",
      "('KMeans n_clusters=13', 10.296711037452527, 10.083336872042299)\n",
      "('KMeans n_clusters=14', 11.09692860077152, 11.036166478865658)\n",
      "('KMeans n_clusters=15', 11.882606547230196, 11.920976095871492)\n",
      "('KMeans n_clusters=16', 12.910496584665093, 12.793079714643016)\n",
      "('KMeans n_clusters=17', 14.156569593832028, 14.076790668427577)\n",
      "('KMeans n_clusters=18', 15.049650614645378, 14.83093153445935)\n",
      "('KMeans n_clusters=19', 15.892280676237196, 15.753966650156466)\n"
     ]
    }
   ],
   "source": [
    "for result in kmeans_ncut_results2:\n",
    "    print(result[:3])"
   ]
  },
  {
   "cell_type": "markdown",
   "id": "b8e1a413",
   "metadata": {},
   "source": [
    "#### Hemisphere cluster correspondence\n",
    "It appears that there is no consistent correspondence between the cluster labels and the hemispheres for the deepwalk embeddings. Since the clusterings are identical for n_clusters=2 (see the NMI section), the hemisphere/cluster correspendences are also identical for the two graphs. "
   ]
  },
  {
   "cell_type": "code",
   "execution_count": 31,
   "id": "325024d0",
   "metadata": {},
   "outputs": [
    {
     "name": "stdout",
     "output_type": "stream",
     "text": [
      "Fraction of the left hemisphere which belongs to cluster 1: 0.5370370370370371\n",
      "Fraction of the left hemisphere which belongs to cluster 2: 0.46296296296296297\n",
      "\n",
      "Fraction of the right hemisphere which belongs to cluster 1: 0.5370370370370371\n",
      "Fraction of the right hemisphere which belongs to cluster 2: 0.46296296296296297\n",
      "\n",
      "Fraction of the cerebellar vermis which belongs to cluster 1: 0.0\n",
      "Fraction of the cerebellar vermis which belongs to cluster 2: 1.0\n"
     ]
    }
   ],
   "source": [
    "clustering_deepwalk_G1 = kmeans_ncut_results2[0][3]\n",
    "\n",
    "even_indices = clustering_deepwalk_G1[:108:2]\n",
    "print(f\"Fraction of the left hemisphere which belongs to cluster 1: {sum(even_indices==0)/len(even_indices)}\")\n",
    "print(f\"Fraction of the left hemisphere which belongs to cluster 2: {sum(even_indices==1)/len(even_indices)}\")\n",
    "print()\n",
    "\n",
    "odd_indices =  clustering_deepwalk_G1[1:108:2]\n",
    "print(f\"Fraction of the right hemisphere which belongs to cluster 1: {sum(odd_indices==0)/len(odd_indices)}\")\n",
    "print(f\"Fraction of the right hemisphere which belongs to cluster 2: {sum(odd_indices==1)/len(odd_indices)}\")\n",
    "\n",
    "print()\n",
    "\n",
    "cerebellum_indices = clustering_deepwalk_G1[108::]\n",
    "print(f\"Fraction of the cerebellar vermis which belongs to cluster 1: {sum(cerebellum_indices==0)/len(cerebellum_indices)}\")\n",
    "print(f\"Fraction of the cerebellar vermis which belongs to cluster 2: {sum(cerebellum_indices==1)/len(cerebellum_indices)}\")"
   ]
  },
  {
   "cell_type": "code",
   "execution_count": 32,
   "id": "cdbf9804",
   "metadata": {},
   "outputs": [
    {
     "name": "stdout",
     "output_type": "stream",
     "text": [
      "Fraction of the left hemisphere which belongs to cluster 1: 0.5370370370370371\n",
      "Fraction of the left hemisphere which belongs to cluster 2: 0.46296296296296297\n",
      "\n",
      "Fraction of the right hemisphere which belongs to cluster 1: 0.5370370370370371\n",
      "Fraction of the right hemisphere which belongs to cluster 2: 0.46296296296296297\n",
      "\n",
      "Fraction of the cerebellar vermis which belongs to cluster 1: 0.0\n",
      "Fraction of the cerebellar vermis which belongs to cluster 2: 1.0\n"
     ]
    }
   ],
   "source": [
    "clustering_deepwalk_G2 = kmeans_ncut_results2[0][4]\n",
    "\n",
    "even_indices = clustering_deepwalk_G2[:108:2]\n",
    "print(f\"Fraction of the left hemisphere which belongs to cluster 1: {sum(even_indices==0)/len(even_indices)}\")\n",
    "print(f\"Fraction of the left hemisphere which belongs to cluster 2: {sum(even_indices==1)/len(even_indices)}\")\n",
    "print()\n",
    "\n",
    "odd_indices =  clustering_deepwalk_G2[1:108:2]\n",
    "print(f\"Fraction of the right hemisphere which belongs to cluster 1: {sum(odd_indices==0)/len(odd_indices)}\")\n",
    "print(f\"Fraction of the right hemisphere which belongs to cluster 2: {sum(odd_indices==1)/len(odd_indices)}\")\n",
    "\n",
    "print()\n",
    "\n",
    "cerebellum_indices = clustering_deepwalk_G2[108::]\n",
    "print(f\"Fraction of the cerebellar vermis which belongs to cluster 1: {sum(cerebellum_indices==0)/len(cerebellum_indices)}\")\n",
    "print(f\"Fraction of the cerebellar vermis which belongs to cluster 2: {sum(cerebellum_indices==1)/len(cerebellum_indices)}\")"
   ]
  },
  {
   "cell_type": "markdown",
   "id": "f2b1654f",
   "metadata": {},
   "source": [
    "## Comparison of partitions"
   ]
  },
  {
   "cell_type": "markdown",
   "id": "52d2cce2",
   "metadata": {},
   "source": [
    "### Comparison of NCut-values\n",
    "For both embeddings, the NCut-values of the clusterings are slightly higher for the first graph."
   ]
  },
  {
   "cell_type": "code",
   "execution_count": 33,
   "id": "e7c5cffa",
   "metadata": {},
   "outputs": [
    {
     "data": {
      "text/plain": [
       "DescribeResult(nobs=18, minmax=(0.10509682351364535, 0.42493913119885285), mean=0.2788306241833359, variance=0.008646005917794476, skewness=-0.2805735206508417, kurtosis=-0.5444754759471722)"
      ]
     },
     "execution_count": 33,
     "metadata": {},
     "output_type": "execute_result"
    }
   ],
   "source": [
    "# DMGI emebeddings\n",
    "kmeans_ncut_results = [list(res) for res in kmeans_ncut_results]\n",
    "result_diffs = np.asarray([res[1] - res[2] for res in kmeans_ncut_results])\n",
    "describe(result_diffs)"
   ]
  },
  {
   "cell_type": "code",
   "execution_count": 34,
   "id": "a67a9309",
   "metadata": {},
   "outputs": [
    {
     "data": {
      "text/plain": [
       "DescribeResult(nobs=18, minmax=(-0.03836954864129538, 0.2187190801860286), mean=0.08762779650369708, variance=0.005713120793585364, skewness=0.22361209544683244, kurtosis=-0.8804935067684245)"
      ]
     },
     "execution_count": 34,
     "metadata": {},
     "output_type": "execute_result"
    }
   ],
   "source": [
    "# Deepwalk embeddings\n",
    "kmeans_ncut_results2 = [list(res) for res in kmeans_ncut_results2]\n",
    "result_diffs = np.asarray([res[1] - res[2] for res in kmeans_ncut_results2])\n",
    "describe(result_diffs)"
   ]
  },
  {
   "cell_type": "markdown",
   "id": "241e8a21",
   "metadata": {},
   "source": [
    "### NMI scores\n",
    "We calculate the normalized mutual information scores of out clustering results to find how similar the KMeans clusterings are in first compared to the second graph. The DMGI embedding clusterings are very different from each other but become more similar as the number of clusters increases. The opposite effect occurs for the deepwalk embeddings, where the NMI scores rise with the number of clusters, but the deepwalk clusterings are very similar in general."
   ]
  },
  {
   "cell_type": "code",
   "execution_count": 35,
   "id": "dc4705c1",
   "metadata": {},
   "outputs": [
    {
     "name": "stdout",
     "output_type": "stream",
     "text": [
      "KMeans n_clusters=2 NMI: 0.0013288647792431474\n",
      "KMeans n_clusters=3 NMI: 0.12530939738142452\n",
      "KMeans n_clusters=4 NMI: 0.1109915704213008\n",
      "KMeans n_clusters=5 NMI: 0.0922655033215784\n",
      "KMeans n_clusters=6 NMI: 0.22280531767391124\n",
      "KMeans n_clusters=7 NMI: 0.1353375397641569\n",
      "KMeans n_clusters=8 NMI: 0.172201686611475\n",
      "KMeans n_clusters=9 NMI: 0.22632106484514047\n",
      "KMeans n_clusters=10 NMI: 0.3089558710332223\n",
      "KMeans n_clusters=11 NMI: 0.27201001074100006\n",
      "KMeans n_clusters=12 NMI: 0.3368954615145153\n",
      "KMeans n_clusters=13 NMI: 0.40999400042573253\n",
      "KMeans n_clusters=14 NMI: 0.38154879153990856\n",
      "KMeans n_clusters=15 NMI: 0.3581923172489403\n",
      "KMeans n_clusters=16 NMI: 0.407816252144638\n",
      "KMeans n_clusters=17 NMI: 0.4143754092581678\n",
      "KMeans n_clusters=18 NMI: 0.45037440969200315\n",
      "KMeans n_clusters=19 NMI: 0.4396401170100803\n"
     ]
    }
   ],
   "source": [
    "# DMGI embeddings\n",
    "descriptions = [res[0] for res in kmeans_ncut_results]\n",
    "\n",
    "kmeans_nmis = [normalized_mutual_info_score(res[3], res[4]) for res in kmeans_ncut_results]\n",
    "for res, nmi in zip(descriptions, kmeans_nmis):\n",
    "    print(f\"{res} NMI: {nmi}\")"
   ]
  },
  {
   "cell_type": "code",
   "execution_count": 36,
   "id": "4dd40bcd",
   "metadata": {},
   "outputs": [
    {
     "name": "stdout",
     "output_type": "stream",
     "text": [
      "KMeans n_clusters=2 NMI: 1.0\n",
      "KMeans n_clusters=3 NMI: 0.9634002398991651\n",
      "KMeans n_clusters=4 NMI: 0.9457877163234529\n",
      "KMeans n_clusters=5 NMI: 0.977845984359593\n",
      "KMeans n_clusters=6 NMI: 0.8813324294469441\n",
      "KMeans n_clusters=7 NMI: 0.905143340923118\n",
      "KMeans n_clusters=8 NMI: 0.8971060282787803\n",
      "KMeans n_clusters=9 NMI: 0.8407447631435722\n",
      "KMeans n_clusters=10 NMI: 0.8953786770407192\n",
      "KMeans n_clusters=11 NMI: 0.7920720757963902\n",
      "KMeans n_clusters=12 NMI: 0.9320378086585457\n",
      "KMeans n_clusters=13 NMI: 0.8820903533337405\n",
      "KMeans n_clusters=14 NMI: 0.8664782335380946\n",
      "KMeans n_clusters=15 NMI: 0.8304579550540191\n",
      "KMeans n_clusters=16 NMI: 0.8945449038710136\n",
      "KMeans n_clusters=17 NMI: 0.8145282534162017\n",
      "KMeans n_clusters=18 NMI: 0.8549425565795234\n",
      "KMeans n_clusters=19 NMI: 0.8212532823519301\n"
     ]
    }
   ],
   "source": [
    "# Deepwalk embeddings\n",
    "descriptions = [res[0] for res in kmeans_ncut_results2]\n",
    "\n",
    "kmeans_nmis = [normalized_mutual_info_score(res[3], res[4]) for res in kmeans_ncut_results2]\n",
    "for res, nmi in zip(descriptions, kmeans_nmis):\n",
    "    print(f\"{res} NMI: {nmi}\")"
   ]
  },
  {
   "cell_type": "markdown",
   "id": "7e82c63b",
   "metadata": {},
   "source": [
    "The explanation of the difference among the NMI scores of DMGI and Deepwalk, would be that in the DMGI we have used additional node attributes, in this case vo every node (brain region) we have included the average brain region activity across all patients. So, for that reason, this led to a different clustering results among G1 and G2, suggesting that the brain activity between visits has changed. "
   ]
  },
  {
   "cell_type": "markdown",
   "id": "e1cb28a6",
   "metadata": {},
   "source": [
    "### Comparison by attributes in clinical.csv\n",
    "In this section we investigate whether the attributes in clinical.csv (such as the age) have an influence on the NCut values of the partitions. To do that, we interpret the column values of clinical.csv as cluster labels, and compute the NCut values of the graph layers (i.e. the patients) individually. Afterwards, we group the NCut values by cluster labels and compare descriptive statistics between the groups.\n",
    "\n",
    "We analyse sex, age, body mass index, MS type and the therapy that was used for treatment."
   ]
  },
  {
   "cell_type": "code",
   "execution_count": 37,
   "id": "7cd7f77a",
   "metadata": {},
   "outputs": [],
   "source": [
    "comparison_attributes = [\n",
    "    ['sex', clinical_csv['SEX']],\n",
    "    ['age over 50', clinical_csv['AGE'] > 50],\n",
    "    ['BMI over 25', clinical_csv['BMI'] > 25],\n",
    "    ['MS type', clinical_csv['MS_TYPE']],\n",
    "    ['therapy', clinical_csv['THERAPY']],\n",
    "    ['more than 15 years after diagnosis', clinical_csv['DIAG_YEARS'] > 15]\n",
    "]"
   ]
  },
  {
   "cell_type": "markdown",
   "id": "8103b70b",
   "metadata": {},
   "source": [
    "#### DMGI Embeddings"
   ]
  },
  {
   "cell_type": "code",
   "execution_count": 38,
   "id": "503a0b54",
   "metadata": {},
   "outputs": [],
   "source": [
    "# takes a while to run\n",
    "\n",
    "individual_ncuts = []\n",
    "\n",
    "for res in kmeans_ncut_results:\n",
    "    \n",
    "    G1_ncuts = []\n",
    "    G1_partition = res[3]\n",
    "    for patient in G1s:\n",
    "        G1_ncuts.append(ncut_by_k_partition(patient, G1_partition))\n",
    "\n",
    "    G2_ncuts = []\n",
    "    G2_partition = res[4]\n",
    "    for patient in G2s:\n",
    "        G2_ncuts.append(ncut_by_k_partition(patient, G2_partition))\n",
    "        \n",
    "    individual_ncuts.append([res[0], G1_ncuts, G2_ncuts])"
   ]
  },
  {
   "cell_type": "code",
   "execution_count": 39,
   "id": "fbda1f41",
   "metadata": {},
   "outputs": [],
   "source": [
    "attribute_statistics = []\n",
    "\n",
    "for part_description, G1_ncuts, G2_ncuts in individual_ncuts:\n",
    "    for comp_description, labels in comparison_attributes:\n",
    "        \n",
    "        label_ncuts_g1 = {}\n",
    "        label_ncuts_g2 = {}\n",
    "        \n",
    "        for label in np.unique(labels):\n",
    "            indices = np.where(labels == label)[0]\n",
    "            \n",
    "            # note: if desired, more descriptive statistics could be saved here\n",
    "            stats = describe(np.asarray(G1_ncuts)[indices])\n",
    "            label_ncuts_g1[label] = {'mean': stats.mean, 'variance': stats.variance}\n",
    "            \n",
    "            stats = describe(np.asarray(G2_ncuts)[indices])\n",
    "            label_ncuts_g2[label] = {'mean': stats.mean, 'variance': stats.variance}\n",
    "            \n",
    "        attribute_statistics.append({'partition_name' : part_description, 'attribute_name' : comp_description,\n",
    "                                    'G1' : label_ncuts_g1, 'G2' : label_ncuts_g2})"
   ]
  },
  {
   "cell_type": "code",
   "execution_count": 50,
   "id": "b1313b0f",
   "metadata": {},
   "outputs": [
    {
     "name": "stdout",
     "output_type": "stream",
     "text": [
      "Partition: KMeans n_clusters=2\n",
      "Attribute: sex \n",
      "\n",
      "F\n",
      "G1 mean ncut: 0.8134142484146929\n",
      "G2 mean ncut: 0.8125184923616151\n",
      "\n",
      "M\n",
      "G1 mean ncut: 0.8099525424292431\n",
      "G2 mean ncut: 0.781011784832379\n",
      "\n",
      "-------------------\n",
      "Partition: KMeans n_clusters=2\n",
      "Attribute: age over 50 \n",
      "\n",
      "False\n",
      "G1 mean ncut: 0.8177160266295395\n",
      "G2 mean ncut: 0.7941169871725611\n",
      "\n",
      "True\n",
      "G1 mean ncut: 0.8047265677619954\n",
      "G2 mean ncut: 0.8087106809483614\n",
      "\n",
      "-------------------\n",
      "Partition: KMeans n_clusters=2\n",
      "Attribute: BMI over 25 \n",
      "\n",
      "False\n",
      "G1 mean ncut: 0.8037169308100777\n",
      "G2 mean ncut: 0.799014913618519\n",
      "\n",
      "True\n",
      "G1 mean ncut: 0.8265451043833305\n",
      "G2 mean ncut: 0.8029040250463978\n",
      "\n",
      "-------------------\n",
      "Partition: KMeans n_clusters=2\n",
      "Attribute: MS type \n",
      "\n",
      "primary_progressive\n",
      "G1 mean ncut: 0.8471059828231148\n",
      "G2 mean ncut: 0.7829114215973777\n",
      "\n",
      "relapsing_remitting\n",
      "G1 mean ncut: 0.8173212333340683\n",
      "G2 mean ncut: 0.8003662368936623\n",
      "\n",
      "secondary_progressive\n",
      "G1 mean ncut: 0.7926838918459606\n",
      "G2 mean ncut: 0.8058267342277844\n",
      "\n",
      "-------------------\n",
      "Partition: KMeans n_clusters=2\n",
      "Attribute: therapy \n",
      "\n",
      "Functional_electric_stimulation\n",
      "G1 mean ncut: 0.8187514523280535\n",
      "G2 mean ncut: 0.8030687500763705\n",
      "\n",
      "Motor_Program_Activating_Therapy\n",
      "G1 mean ncut: 0.7998423656169265\n",
      "G2 mean ncut: 0.8003438805825267\n",
      "\n",
      "Vojta_reflex_locomotion\n",
      "G1 mean ncut: 0.8374481812289252\n",
      "G2 mean ncut: 0.7980668905942886\n",
      "\n",
      "-------------------\n",
      "Partition: KMeans n_clusters=2\n",
      "Attribute: more than 15 years after diagnosis \n",
      "\n",
      "False\n",
      "G1 mean ncut: 0.8232526959781026\n",
      "G2 mean ncut: 0.8003793172132738\n",
      "\n",
      "True\n",
      "G1 mean ncut: 0.7860345797853279\n",
      "G2 mean ncut: 0.8005846636426097\n",
      "\n",
      "-------------------\n"
     ]
    }
   ],
   "source": [
    "\n",
    "output_text = True\n",
    "\n",
    "for entry in attribute_statistics:\n",
    "    \n",
    "    if int(entry['partition_name'].split('=')[-1]) <= 2:\n",
    "        print(\"Partition:\", entry['partition_name'])\n",
    "        print(\"Attribute:\", entry['attribute_name'], \"\\n\")\n",
    "        \n",
    "        for key in entry['G1'].keys():\n",
    "            print(key)\n",
    "            print(\"G1 mean ncut:\", entry['G1'][key]['mean'])\n",
    "            print(\"G2 mean ncut:\", entry['G2'][key]['mean'])\n",
    "            print()\n",
    "            \n",
    "        print(\"-------------------\")"
   ]
  },
  {
   "cell_type": "markdown",
   "id": "f8bd3258",
   "metadata": {},
   "source": [
    "Comparing the mean NCuts for n_clusters=2 between patients there is no significant difference along the ncut values."
   ]
  },
  {
   "cell_type": "markdown",
   "id": "d9a08dc7",
   "metadata": {},
   "source": [
    "#### Deepwalk embeddings"
   ]
  },
  {
   "cell_type": "code",
   "execution_count": 41,
   "id": "5bebb83e",
   "metadata": {},
   "outputs": [],
   "source": [
    "# takes a while to run\n",
    "\n",
    "individual_ncuts = []\n",
    "\n",
    "for res in kmeans_ncut_results2:\n",
    "    \n",
    "    G1_ncuts = []\n",
    "    G1_partition = res[3]\n",
    "    for patient in G1s:\n",
    "        G1_ncuts.append(ncut_by_k_partition(patient, G1_partition))\n",
    "\n",
    "    G2_ncuts = []\n",
    "    G2_partition = res[4]\n",
    "    for patient in G2s:\n",
    "        G2_ncuts.append(ncut_by_k_partition(patient, G2_partition))\n",
    "        \n",
    "    individual_ncuts.append([res[0], G1_ncuts, G2_ncuts])"
   ]
  },
  {
   "cell_type": "code",
   "execution_count": 42,
   "id": "b20996ce",
   "metadata": {},
   "outputs": [],
   "source": [
    "attribute_statistics = []\n",
    "\n",
    "for part_description, G1_ncuts, G2_ncuts in individual_ncuts:\n",
    "    for comp_description, labels in comparison_attributes:\n",
    "        \n",
    "        label_ncuts_g1 = {}\n",
    "        label_ncuts_g2 = {}\n",
    "        \n",
    "        for label in np.unique(labels):\n",
    "            indices = np.where(labels == label)[0]\n",
    "            \n",
    "            # note: if desired, more descriptive statistics could be saved here\n",
    "            stats = describe(np.asarray(G1_ncuts)[indices])\n",
    "            label_ncuts_g1[label] = {'mean': stats.mean, 'variance': stats.variance}\n",
    "            \n",
    "            stats = describe(np.asarray(G2_ncuts)[indices])\n",
    "            label_ncuts_g2[label] = {'mean': stats.mean, 'variance': stats.variance}\n",
    "            \n",
    "        attribute_statistics.append({'partition_name' : part_description, 'attribute_name' : comp_description,\n",
    "                                    'G1' : label_ncuts_g1, 'G2' : label_ncuts_g2})"
   ]
  },
  {
   "cell_type": "code",
   "execution_count": 51,
   "id": "863fbeb2",
   "metadata": {},
   "outputs": [
    {
     "name": "stdout",
     "output_type": "stream",
     "text": [
      "Partition: KMeans n_clusters=2\n",
      "Attribute: sex \n",
      "\n",
      "F\n",
      "G1 mean ncut: 0.8134142484146929\n",
      "G2 mean ncut: 0.8125184923616151\n",
      "\n",
      "M\n",
      "G1 mean ncut: 0.8099525424292431\n",
      "G2 mean ncut: 0.781011784832379\n",
      "\n",
      "-------------------\n",
      "Partition: KMeans n_clusters=2\n",
      "Attribute: age over 50 \n",
      "\n",
      "False\n",
      "G1 mean ncut: 0.8177160266295395\n",
      "G2 mean ncut: 0.7941169871725611\n",
      "\n",
      "True\n",
      "G1 mean ncut: 0.8047265677619954\n",
      "G2 mean ncut: 0.8087106809483614\n",
      "\n",
      "-------------------\n",
      "Partition: KMeans n_clusters=2\n",
      "Attribute: BMI over 25 \n",
      "\n",
      "False\n",
      "G1 mean ncut: 0.8037169308100777\n",
      "G2 mean ncut: 0.799014913618519\n",
      "\n",
      "True\n",
      "G1 mean ncut: 0.8265451043833305\n",
      "G2 mean ncut: 0.8029040250463978\n",
      "\n",
      "-------------------\n",
      "Partition: KMeans n_clusters=2\n",
      "Attribute: MS type \n",
      "\n",
      "primary_progressive\n",
      "G1 mean ncut: 0.8471059828231148\n",
      "G2 mean ncut: 0.7829114215973777\n",
      "\n",
      "relapsing_remitting\n",
      "G1 mean ncut: 0.8173212333340683\n",
      "G2 mean ncut: 0.8003662368936623\n",
      "\n",
      "secondary_progressive\n",
      "G1 mean ncut: 0.7926838918459606\n",
      "G2 mean ncut: 0.8058267342277844\n",
      "\n",
      "-------------------\n",
      "Partition: KMeans n_clusters=2\n",
      "Attribute: therapy \n",
      "\n",
      "Functional_electric_stimulation\n",
      "G1 mean ncut: 0.8187514523280535\n",
      "G2 mean ncut: 0.8030687500763705\n",
      "\n",
      "Motor_Program_Activating_Therapy\n",
      "G1 mean ncut: 0.7998423656169265\n",
      "G2 mean ncut: 0.8003438805825267\n",
      "\n",
      "Vojta_reflex_locomotion\n",
      "G1 mean ncut: 0.8374481812289252\n",
      "G2 mean ncut: 0.7980668905942886\n",
      "\n",
      "-------------------\n",
      "Partition: KMeans n_clusters=2\n",
      "Attribute: more than 15 years after diagnosis \n",
      "\n",
      "False\n",
      "G1 mean ncut: 0.8232526959781026\n",
      "G2 mean ncut: 0.8003793172132738\n",
      "\n",
      "True\n",
      "G1 mean ncut: 0.7860345797853279\n",
      "G2 mean ncut: 0.8005846636426097\n",
      "\n",
      "-------------------\n"
     ]
    }
   ],
   "source": [
    "\n",
    "output_text = True\n",
    "\n",
    "for entry in attribute_statistics:\n",
    "    \n",
    "    if int(entry['partition_name'].split('=')[-1]) <= 2:\n",
    "        print(\"Partition:\", entry['partition_name'])\n",
    "        print(\"Attribute:\", entry['attribute_name'], \"\\n\")\n",
    "        \n",
    "        for key in entry['G1'].keys():\n",
    "            print(key)\n",
    "            print(\"G1 mean ncut:\", entry['G1'][key]['mean'])\n",
    "            print(\"G2 mean ncut:\", entry['G2'][key]['mean'])\n",
    "            print()\n",
    "            \n",
    "        print(\"-------------------\")"
   ]
  },
  {
   "cell_type": "markdown",
   "id": "5260a7da",
   "metadata": {},
   "source": [
    "same insights are provided by the deepwalk embedding. They prove no significant difference over the analysed attributes."
   ]
  },
  {
   "cell_type": "markdown",
   "id": "c4c70657",
   "metadata": {},
   "source": [
    "# Task 2d"
   ]
  },
  {
   "cell_type": "code",
   "execution_count": 44,
   "id": "e6c98597",
   "metadata": {},
   "outputs": [
    {
     "data": {
      "text/html": [
       "<div>\n",
       "<style scoped>\n",
       "    .dataframe tbody tr th:only-of-type {\n",
       "        vertical-align: middle;\n",
       "    }\n",
       "\n",
       "    .dataframe tbody tr th {\n",
       "        vertical-align: top;\n",
       "    }\n",
       "\n",
       "    .dataframe thead th {\n",
       "        text-align: right;\n",
       "    }\n",
       "</style>\n",
       "<table border=\"1\" class=\"dataframe\">\n",
       "  <thead>\n",
       "    <tr style=\"text-align: right;\">\n",
       "      <th></th>\n",
       "      <th>graph</th>\n",
       "      <th>conductance</th>\n",
       "      <th>cut_size</th>\n",
       "      <th>edge_expansion</th>\n",
       "      <th>mixing_expansion</th>\n",
       "    </tr>\n",
       "  </thead>\n",
       "  <tbody>\n",
       "    <tr>\n",
       "      <th>0</th>\n",
       "      <td>G1</td>\n",
       "      <td>0.585960</td>\n",
       "      <td>24540</td>\n",
       "      <td>570.697674</td>\n",
       "      <td>0.229844</td>\n",
       "    </tr>\n",
       "    <tr>\n",
       "      <th>1</th>\n",
       "      <td>G2</td>\n",
       "      <td>0.487745</td>\n",
       "      <td>13452</td>\n",
       "      <td>354.000000</td>\n",
       "      <td>0.128161</td>\n",
       "    </tr>\n",
       "  </tbody>\n",
       "</table>\n",
       "</div>"
      ],
      "text/plain": [
       "  graph  conductance  cut_size  edge_expansion  mixing_expansion\n",
       "0    G1     0.585960     24540      570.697674          0.229844\n",
       "1    G2     0.487745     13452      354.000000          0.128161"
      ]
     },
     "execution_count": 44,
     "metadata": {},
     "output_type": "execute_result"
    }
   ],
   "source": [
    "functions = (\n",
    "    nx.conductance,\n",
    "    nx.cut_size,\n",
    "    nx.edge_expansion,\n",
    "    nx.mixing_expansion,\n",
    ")\n",
    "\n",
    "results = pd.DataFrame()\n",
    "results['graph'] = ['G1', 'G2']\n",
    "\n",
    "# only compare k=2 at position 0\n",
    "# get the two k means clusterings\n",
    "clustering1, clustering2 = kmeans_ncut_results[0][-2:]\n",
    "\n",
    "# parameter embedding 1\n",
    "params1 = (\n",
    "    G1,\n",
    "    list(np.where(clustering1==0)[0]),\n",
    "    list(np.where(clustering1==1)[0]),\n",
    ")\n",
    "\n",
    "# parameter embedding 2\n",
    "params2 = (\n",
    "    G2,\n",
    "    list(np.where(clustering2==0)[0]),\n",
    "    list(np.where(clustering2==1)[0]),\n",
    ")\n",
    "\n",
    "\n",
    "\n",
    "for func in functions:\n",
    "\n",
    "    results[func.__name__] = [func(*params1), func(*params2)]\n",
    "\n",
    "results"
   ]
  },
  {
   "cell_type": "markdown",
   "id": "093fd7bf",
   "metadata": {},
   "source": [
    "As ncut decrease so does cut size together with edge-expansion and mixing-exapansion as it is directly linked to the cut size. Conductance also deacreases which leads to the idea that the volume of both clusters is more equal."
   ]
  },
  {
   "cell_type": "code",
   "execution_count": 52,
   "id": "bb1107a2",
   "metadata": {},
   "outputs": [
    {
     "data": {
      "text/html": [
       "<div>\n",
       "<style scoped>\n",
       "    .dataframe tbody tr th:only-of-type {\n",
       "        vertical-align: middle;\n",
       "    }\n",
       "\n",
       "    .dataframe tbody tr th {\n",
       "        vertical-align: top;\n",
       "    }\n",
       "\n",
       "    .dataframe thead th {\n",
       "        text-align: right;\n",
       "    }\n",
       "</style>\n",
       "<table border=\"1\" class=\"dataframe\">\n",
       "  <thead>\n",
       "    <tr style=\"text-align: right;\">\n",
       "      <th></th>\n",
       "      <th>graph</th>\n",
       "      <th>conductance</th>\n",
       "      <th>cut_size</th>\n",
       "      <th>edge_expansion</th>\n",
       "      <th>mixing_expansion</th>\n",
       "    </tr>\n",
       "  </thead>\n",
       "  <tbody>\n",
       "    <tr>\n",
       "      <th>0</th>\n",
       "      <td>G1</td>\n",
       "      <td>0.463079</td>\n",
       "      <td>21529</td>\n",
       "      <td>371.189655</td>\n",
       "      <td>0.201643</td>\n",
       "    </tr>\n",
       "    <tr>\n",
       "      <th>1</th>\n",
       "      <td>G2</td>\n",
       "      <td>0.452849</td>\n",
       "      <td>20769</td>\n",
       "      <td>358.086207</td>\n",
       "      <td>0.197872</td>\n",
       "    </tr>\n",
       "  </tbody>\n",
       "</table>\n",
       "</div>"
      ],
      "text/plain": [
       "  graph  conductance  cut_size  edge_expansion  mixing_expansion\n",
       "0    G1     0.463079     21529      371.189655          0.201643\n",
       "1    G2     0.452849     20769      358.086207          0.197872"
      ]
     },
     "execution_count": 52,
     "metadata": {},
     "output_type": "execute_result"
    }
   ],
   "source": [
    "functions = (\n",
    "    nx.conductance,\n",
    "    nx.cut_size,\n",
    "    nx.edge_expansion,\n",
    "    nx.mixing_expansion,\n",
    ")\n",
    "\n",
    "results = pd.DataFrame()\n",
    "results['graph'] = ['G1', 'G2']\n",
    "\n",
    "# only compare k=2 at position 0\n",
    "# get the two k means clusterings\n",
    "clustering1, clustering2 = kmeans_ncut_results2[0][-2:]\n",
    "\n",
    "# parameter embedding 1\n",
    "params1 = (\n",
    "    G1,\n",
    "    list(np.where(clustering1==0)[0]),\n",
    "    list(np.where(clustering1==1)[0]),\n",
    ")\n",
    "\n",
    "# parameter embedding 2\n",
    "params2 = (\n",
    "    G2,\n",
    "    list(np.where(clustering2==0)[0]),\n",
    "    list(np.where(clustering2==1)[0]),\n",
    ")\n",
    "\n",
    "\n",
    "for func in functions:\n",
    "    results[func.__name__] = [func(*params1), func(*params2)]\n",
    "\n",
    "results"
   ]
  },
  {
   "cell_type": "markdown",
   "id": "b7f04701",
   "metadata": {},
   "source": [
    "We can not see any sigificant differences between the graphs before and after treatment for the deepwalk embedding."
   ]
  },
  {
   "cell_type": "code",
   "execution_count": 46,
   "id": "144a0983",
   "metadata": {},
   "outputs": [
    {
     "data": {
      "text/html": [
       "<div>\n",
       "<style scoped>\n",
       "    .dataframe tbody tr th:only-of-type {\n",
       "        vertical-align: middle;\n",
       "    }\n",
       "\n",
       "    .dataframe tbody tr th {\n",
       "        vertical-align: top;\n",
       "    }\n",
       "\n",
       "    .dataframe thead th {\n",
       "        text-align: right;\n",
       "    }\n",
       "</style>\n",
       "<table border=\"1\" class=\"dataframe\">\n",
       "  <thead>\n",
       "    <tr style=\"text-align: right;\">\n",
       "      <th></th>\n",
       "      <th>graph</th>\n",
       "      <th>partition</th>\n",
       "      <th>boundary_expansion</th>\n",
       "      <th>node_expansion</th>\n",
       "      <th>volume</th>\n",
       "    </tr>\n",
       "  </thead>\n",
       "  <tbody>\n",
       "    <tr>\n",
       "      <th>0</th>\n",
       "      <td>G1</td>\n",
       "      <td>0</td>\n",
       "      <td>0.589041</td>\n",
       "      <td>1.589041</td>\n",
       "      <td>64888</td>\n",
       "    </tr>\n",
       "    <tr>\n",
       "      <th>1</th>\n",
       "      <td>G1</td>\n",
       "      <td>1</td>\n",
       "      <td>1.697674</td>\n",
       "      <td>2.697674</td>\n",
       "      <td>41880</td>\n",
       "    </tr>\n",
       "    <tr>\n",
       "      <th>2</th>\n",
       "      <td>G2</td>\n",
       "      <td>0</td>\n",
       "      <td>2.052632</td>\n",
       "      <td>3.052632</td>\n",
       "      <td>27580</td>\n",
       "    </tr>\n",
       "    <tr>\n",
       "      <th>3</th>\n",
       "      <td>G2</td>\n",
       "      <td>1</td>\n",
       "      <td>0.487179</td>\n",
       "      <td>1.487179</td>\n",
       "      <td>77382</td>\n",
       "    </tr>\n",
       "  </tbody>\n",
       "</table>\n",
       "</div>"
      ],
      "text/plain": [
       "  graph  partition  boundary_expansion  node_expansion  volume\n",
       "0    G1          0            0.589041        1.589041   64888\n",
       "1    G1          1            1.697674        2.697674   41880\n",
       "2    G2          0            2.052632        3.052632   27580\n",
       "3    G2          1            0.487179        1.487179   77382"
      ]
     },
     "execution_count": 46,
     "metadata": {},
     "output_type": "execute_result"
    }
   ],
   "source": [
    "functions = (\n",
    "    nx.boundary_expansion,\n",
    "    nx.node_expansion,\n",
    "    nx.volume,\n",
    ")\n",
    "\n",
    "\n",
    "results = []\n",
    "\n",
    "for i, n in enumerate(n_clusters):\n",
    "    df = pd.DataFrame(columns=['graph', 'partition', *[f.__name__ for f in functions]])\n",
    "    for (G_str, G), cluster in  product({'G1': G1, 'G2': G2}.items(), list(range(n))):\n",
    "        # a bit hacky\n",
    "        if G_str == 'G1': clustering = kmeans_ncut_results[i][-2]\n",
    "        else: clustering = kmeans_ncut_results[i][-1]\n",
    "\n",
    "        df.loc[len(df.index)] = [\n",
    "            G_str, cluster,\n",
    "            *[f(G, np.where(clustering==cluster)[0]) for f in functions]\n",
    "        ]\n",
    "    results.append(df)\n",
    "\n",
    "results[0]"
   ]
  },
  {
   "attachments": {},
   "cell_type": "markdown",
   "id": "b232c822",
   "metadata": {},
   "source": [
    "As we saw in the previous section we can see that for the dmgi embedding the clustering before and after treatment are very different."
   ]
  },
  {
   "cell_type": "code",
   "execution_count": 49,
   "id": "5151bf9c",
   "metadata": {},
   "outputs": [
    {
     "data": {
      "text/html": [
       "<div>\n",
       "<style scoped>\n",
       "    .dataframe tbody tr th:only-of-type {\n",
       "        vertical-align: middle;\n",
       "    }\n",
       "\n",
       "    .dataframe tbody tr th {\n",
       "        vertical-align: top;\n",
       "    }\n",
       "\n",
       "    .dataframe thead th {\n",
       "        text-align: right;\n",
       "    }\n",
       "</style>\n",
       "<table border=\"1\" class=\"dataframe\">\n",
       "  <thead>\n",
       "    <tr style=\"text-align: right;\">\n",
       "      <th></th>\n",
       "      <th>graph</th>\n",
       "      <th>partition</th>\n",
       "      <th>boundary_expansion</th>\n",
       "      <th>node_expansion</th>\n",
       "      <th>volume</th>\n",
       "    </tr>\n",
       "  </thead>\n",
       "  <tbody>\n",
       "    <tr>\n",
       "      <th>0</th>\n",
       "      <td>G1</td>\n",
       "      <td>0</td>\n",
       "      <td>1.0</td>\n",
       "      <td>2.0</td>\n",
       "      <td>60277</td>\n",
       "    </tr>\n",
       "    <tr>\n",
       "      <th>1</th>\n",
       "      <td>G1</td>\n",
       "      <td>1</td>\n",
       "      <td>1.0</td>\n",
       "      <td>2.0</td>\n",
       "      <td>46491</td>\n",
       "    </tr>\n",
       "    <tr>\n",
       "      <th>2</th>\n",
       "      <td>G2</td>\n",
       "      <td>0</td>\n",
       "      <td>1.0</td>\n",
       "      <td>2.0</td>\n",
       "      <td>59099</td>\n",
       "    </tr>\n",
       "    <tr>\n",
       "      <th>3</th>\n",
       "      <td>G2</td>\n",
       "      <td>1</td>\n",
       "      <td>1.0</td>\n",
       "      <td>2.0</td>\n",
       "      <td>45863</td>\n",
       "    </tr>\n",
       "  </tbody>\n",
       "</table>\n",
       "</div>"
      ],
      "text/plain": [
       "  graph  partition  boundary_expansion  node_expansion  volume\n",
       "0    G1          0                 1.0             2.0   60277\n",
       "1    G1          1                 1.0             2.0   46491\n",
       "2    G2          0                 1.0             2.0   59099\n",
       "3    G2          1                 1.0             2.0   45863"
      ]
     },
     "execution_count": 49,
     "metadata": {},
     "output_type": "execute_result"
    }
   ],
   "source": [
    "functions = (\n",
    "    nx.boundary_expansion,\n",
    "    nx.node_expansion,\n",
    "    nx.volume,\n",
    ")\n",
    "\n",
    "\n",
    "results = []\n",
    "\n",
    "for i, n in enumerate(n_clusters):\n",
    "    df = pd.DataFrame(columns=['graph', 'partition', *[f.__name__ for f in functions]])\n",
    "    for (G_str, G), cluster in  product({'G1': G1, 'G2': G2}.items(), list(range(n))):\n",
    "        # a bit hacky\n",
    "        if G_str == 'G1': clustering = kmeans_ncut_results2[i][-2]\n",
    "        else: clustering = kmeans_ncut_results2[i][-1]\n",
    "\n",
    "        df.loc[len(df.index)] = [\n",
    "            G_str, cluster,\n",
    "            *[f(G, np.where(clustering==cluster)[0]) for f in functions]\n",
    "        ]\n",
    "    results.append(df)\n",
    "\n",
    "results[0]"
   ]
  },
  {
   "cell_type": "markdown",
   "id": "c387a947",
   "metadata": {},
   "source": [
    "Again the deepwalk embedding shows now big difference before and after treatment."
   ]
  }
 ],
 "metadata": {
  "kernelspec": {
   "display_name": "Python 3 (ipykernel)",
   "language": "python",
   "name": "python3"
  },
  "language_info": {
   "codemirror_mode": {
    "name": "ipython",
    "version": 3
   },
   "file_extension": ".py",
   "mimetype": "text/x-python",
   "name": "python",
   "nbconvert_exporter": "python",
   "pygments_lexer": "ipython3",
   "version": "3.9.12"
  },
  "vscode": {
   "interpreter": {
    "hash": "f7b99bfaf3482f271cc62b7e5e27169c3f2caa342f1d4056f17a4f56e42e1c31"
   }
  }
 },
 "nbformat": 4,
 "nbformat_minor": 5
}
