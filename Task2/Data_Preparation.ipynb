{
 "cells": [
  {
   "cell_type": "code",
   "execution_count": 2,
   "id": "6d69af9b",
   "metadata": {
    "pycharm": {
     "is_executing": true
    }
   },
   "outputs": [],
   "source": [
    "import networkx as nx\n",
    "import pandas as pd\n",
    "import numpy as np\n",
    "import matplotlib.pyplot as plt"
   ]
  },
  {
   "cell_type": "markdown",
   "id": "b89c756b",
   "metadata": {},
   "source": [
    "## Data preparation"
   ]
  },
  {
   "cell_type": "markdown",
   "id": "98cc5623",
   "metadata": {},
   "source": [
    "## a)\n",
    " Construct the networks based on the given description."
   ]
  },
  {
   "cell_type": "markdown",
   "id": "c6d041a1",
   "metadata": {},
   "source": [
    "### Deepwalk"
   ]
  },
  {
   "cell_type": "code",
   "execution_count": null,
   "id": "161ec62e",
   "metadata": {},
   "outputs": [],
   "source": []
  },
  {
   "cell_type": "markdown",
   "id": "287e38b5",
   "metadata": {},
   "source": [
    "### DMGI"
   ]
  },
  {
   "cell_type": "code",
   "execution_count": 66,
   "id": "31caf3f4",
   "metadata": {},
   "outputs": [],
   "source": [
    "def csv_to_graph(path, threshold=0.3):\n",
    "    # load in csv as dataframe\n",
    "    df = pd.read_csv(path,header=None)\n",
    "    \n",
    "    # threshold dataframe and remove diagonal\n",
    "    A = (df>threshold).astype(int) - pd.DataFrame(np.identity(df.shape[0]))\n",
    "         \n",
    "    # convert to graph\n",
    "    G = nx.from_pandas_adjacency(A)\n",
    "    \n",
    "    return G, A\n",
    "\n",
    "def load_graphs(folder):\n",
    "    #load in all graphs in folder\n",
    "    G1s, G2s = [],[]\n",
    "    A1s, A2s = [],[]\n",
    "    features1 = 0\n",
    "    features2 = 0\n",
    "\n",
    "    for i in range(1,61):\n",
    "        filename = f'{folder}/p{i:03}_1.csv'\n",
    "        G, A = csv_to_graph(filename)\n",
    "        G1s.append(G)\n",
    "        A1s.append(A)\n",
    "        \n",
    "\n",
    "        filename = f'{folder}/p{i:03}_2.csv'\n",
    "        G, A = csv_to_graph(filename)\n",
    "        G2s.append(G)\n",
    "        A2s.append(A)\n",
    "        \n",
    "    graphs_info = {\n",
    "        'G1': {\n",
    "            'As': A1s,\n",
    "            'features': None\n",
    "        },\n",
    "        'G2': {\n",
    "            'As': A2s,\n",
    "            'features': None\n",
    "        }\n",
    "    }\n",
    "    \n",
    "    return G1s, G2s, graphs_info\n",
    "\n",
    "\n",
    "def load_node_info(folder, graph_info):\n",
    "    \n",
    "    dfs_1 = []\n",
    "    dfs_2 = []\n",
    "    \n",
    "    for i in range(1,61):\n",
    "        filename = f'{folder}/{folder}_p{i:03}_1.csv'\n",
    "        df = pd.read_csv(filename,header=None)\n",
    "        dfs_1.append(df.to_numpy())\n",
    "\n",
    "        filename = f'{folder}/{folder}_p{i:03}_2.csv'\n",
    "        df = pd.read_csv(filename,header=None)\n",
    "        dfs_2.append(df.to_numpy())\n",
    "    \n",
    "    sum1 = np.zeros(dfs_1[0].shape)\n",
    "    for m in dfs_1:\n",
    "        sum1 += m[:, 0:240]\n",
    "    sum2 = np.zeros(dfs_2[0].shape)\n",
    "    for m in dfs_2:\n",
    "        sum2 += m[:, 0:240]\n",
    "\n",
    "    mean1 = np.divide(sum1, 60)\n",
    "    mean2 = np.divide(sum2, 60)\n",
    "    \n",
    "    graph_info['G1']['features'] = mean1\n",
    "    graph_info['G2']['features'] = mean2\n",
    "    \n",
    "    return graph_info"
   ]
  },
  {
   "cell_type": "code",
   "execution_count": 63,
   "id": "834b1fc1",
   "metadata": {},
   "outputs": [],
   "source": [
    "G1s, G2s, graphs_info = load_graphs(\"FC\")\n",
    "\n",
    "nb_graphs = len(G1s)\n",
    "nb_nodes = G1s[0].number_of_nodes()"
   ]
  },
  {
   "cell_type": "code",
   "execution_count": 67,
   "id": "b29fd69f",
   "metadata": {},
   "outputs": [],
   "source": [
    "graphs_info = load_node_info(\"AAL_timeseries\", graphs_info)"
   ]
  },
  {
   "cell_type": "code",
   "execution_count": 68,
   "id": "c789f6b5",
   "metadata": {},
   "outputs": [],
   "source": [
    "import pickle as pkl\n",
    "\n",
    "graphs = ['G1', 'G2']\n",
    "for graph in graphs:\n",
    "    output = {}\n",
    "    output['feature'] = graphs_info[graph]['features']\n",
    "    output['train_idx'] = np.arange(nb_nodes)\n",
    "    output['val_idx'] = np.arange(nb_nodes)\n",
    "    output['test_idx'] = np.arange(nb_nodes)\n",
    "    output['label'] = np.expand_dims(np.ones(nb_nodes), axis=1)\n",
    "    As = graphs_info[graph]['As']\n",
    "    for i, A in enumerate(As):\n",
    "        name = \"A_\"+str(i)\n",
    "        output[name] = A\n",
    "    \n",
    "    pkl.dump(output, open('../DMGI/data/{}.pkl'.format(graph), 'wb'), protocol=pkl.HIGHEST_PROTOCOL)"
   ]
  },
  {
   "cell_type": "markdown",
   "id": "359b5ca2",
   "metadata": {},
   "source": [
    "### Embeddings"
   ]
  },
  {
   "cell_type": "markdown",
   "id": "3bb6087d",
   "metadata": {},
   "source": [
    "## b) \n",
    "Apply implementations of two algorithms, one from each category: single graph node embedding and\n",
    "multi-relational graph node embedding. Explain the reason behind choosing these two algorithms. "
   ]
  },
  {
   "cell_type": "markdown",
   "id": "f219ff90",
   "metadata": {},
   "source": [
    "### Deepwalk"
   ]
  },
  {
   "cell_type": "code",
   "execution_count": null,
   "id": "e41f55da",
   "metadata": {},
   "outputs": [],
   "source": []
  },
  {
   "cell_type": "markdown",
   "id": "22ecd903",
   "metadata": {},
   "source": [
    "### DMGI"
   ]
  },
  {
   "cell_type": "code",
   "execution_count": null,
   "id": "817b942f",
   "metadata": {},
   "outputs": [],
   "source": [
    "# create embeddings for G1\n",
    "os.chdir('..\\DMGI') \n",
    "os.system('python main.py --embedder DMGI --dataset G1 --metapaths A_0,A_1,A_2,A_3,A_4,A_5,A_6,A_7,A_8,A_9,A_10,A_11,A_12,A_13,A_14,A_15,A_16,A_17,A_18,A_19,A_20,A_21,A_22,A_23,A_24,A_25,A_26,A_27,A_28,A_29,A_30,A_31,A_32,A_33,A_34,A_35,A_36,A_37,A_38,A_39,A_40,A_41,A_42,A_43,A_44,A_45,A_46,A_47,A_48,A_49,A_50,A_51,A_52,A_53,A_54,A_55,A_56,A_57,A_58,A_59')\n",
    "os.chdir(cwd)"
   ]
  },
  {
   "cell_type": "code",
   "execution_count": null,
   "id": "b5ff6085",
   "metadata": {},
   "outputs": [],
   "source": [
    "# create embeddings for G2\n",
    "os.chdir('..\\DMGI') \n",
    "os.system('python main.py --embedder DMGI --dataset G2 --metapaths A_0,A_1,A_2,A_3,A_4,A_5,A_6,A_7,A_8,A_9,A_10,A_11,A_12,A_13,A_14,A_15,A_16,A_17,A_18,A_19,A_20,A_21,A_22,A_23,A_24,A_25,A_26,A_27,A_28,A_29,A_30,A_31,A_32,A_33,A_34,A_35,A_36,A_37,A_38,A_39,A_40,A_41,A_42,A_43,A_44,A_45,A_46,A_47,A_48,A_49,A_50,A_51,A_52,A_53,A_54,A_55,A_56,A_57,A_58,A_59')\n",
    "os.chdir(cwd)"
   ]
  },
  {
   "cell_type": "markdown",
   "id": "a73fe41d",
   "metadata": {},
   "source": [
    "The model embeddings should be saved in 'DMGI/saved_model' folder."
   ]
  },
  {
   "cell_type": "code",
   "execution_count": null,
   "id": "8fc9cba1",
   "metadata": {},
   "outputs": [],
   "source": []
  }
 ],
 "metadata": {
  "kernelspec": {
   "display_name": "Python 3 (ipykernel)",
   "language": "python",
   "name": "python3"
  },
  "language_info": {
   "codemirror_mode": {
    "name": "ipython",
    "version": 3
   },
   "file_extension": ".py",
   "mimetype": "text/x-python",
   "name": "python",
   "nbconvert_exporter": "python",
   "pygments_lexer": "ipython3",
   "version": "3.9.12"
  }
 },
 "nbformat": 4,
 "nbformat_minor": 5
}
