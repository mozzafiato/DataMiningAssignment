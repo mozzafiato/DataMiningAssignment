{
 "cells": [
  {
   "cell_type": "markdown",
   "id": "53191c75",
   "metadata": {},
   "source": [
    "## NCut Testing\n",
    "This file is for validating, debugging etc. of the n-cut functions (could later be adapted to an evaluation file)"
   ]
  },
  {
   "cell_type": "code",
   "execution_count": 2,
   "id": "6d69af9b",
   "metadata": {},
   "outputs": [],
   "source": [
    "import networkx as nx\n",
    "import pandas as pd\n",
    "import numpy as np\n",
    "import matplotlib.pyplot as plt"
   ]
  },
  {
   "cell_type": "code",
   "execution_count": 3,
   "id": "31caf3f4",
   "metadata": {},
   "outputs": [],
   "source": [
    "def csv_to_graph(path, threshold=0.3):\n",
    "    # load in csv as dataframe\n",
    "    df = pd.read_csv(path,header=None)\n",
    "    \n",
    "    # threshold dataframe and remove diagonal\n",
    "    A = (df>threshold).astype(int) - pd.DataFrame(np.identity(df.shape[0]))\n",
    "         \n",
    "    # convert to graph\n",
    "    G = nx.from_pandas_adjacency(A)\n",
    "    \n",
    "    return G\n",
    "\n",
    "def load_graphs(folder):\n",
    "    #load in all graphs in folder\n",
    "    G1s, G2s = [],[]\n",
    "\n",
    "    for i in range(1,61):\n",
    "        filename = f'{folder}/p{i:03}_1.csv'\n",
    "        G1s.append(csv_to_graph(filename))\n",
    "\n",
    "        filename = f'{folder}/p{i:03}_2.csv'\n",
    "        G2s.append(csv_to_graph(filename))\n",
    "        \n",
    "    return G1s, G2s\n",
    "\n",
    "G1s, G2s = load_graphs(\"FC\")"
   ]
  },
  {
   "cell_type": "code",
   "execution_count": 42,
   "id": "3cbd373a",
   "metadata": {},
   "outputs": [],
   "source": [
    "from ncut_michi import *"
   ]
  },
  {
   "cell_type": "code",
   "execution_count": 44,
   "id": "1a466c22",
   "metadata": {},
   "outputs": [
    {
     "name": "stdout",
     "output_type": "stream",
     "text": [
      "D [[36.  0.  0. ...  0.  0.  0.]\n",
      " [ 0. 34.  0. ...  0.  0.  0.]\n",
      " [ 0.  0. 19. ...  0.  0.  0.]\n",
      " ...\n",
      " [ 0.  0.  0. ...  1.  0.  0.]\n",
      " [ 0.  0.  0. ...  0.  0.  0.]\n",
      " [ 0.  0.  0. ...  0.  0.  0.]] \n",
      "\n",
      "W [[0. 1. 1. ... 0. 0. 0.]\n",
      " [1. 0. 0. ... 0. 0. 0.]\n",
      " [1. 0. 0. ... 0. 0. 0.]\n",
      " ...\n",
      " [0. 0. 0. ... 0. 1. 0.]\n",
      " [0. 0. 0. ... 1. 0. 0.]\n",
      " [0. 0. 0. ... 0. 0. 0.]]\n"
     ]
    }
   ],
   "source": [
    "graph = G2s[0]\n",
    "D = compute_D(graph)\n",
    "W = compute_W(graph)\n",
    "print(\"D\", D, \"\\n\")\n",
    "print(\"W\", W)"
   ]
  },
  {
   "cell_type": "code",
   "execution_count": 46,
   "id": "e03c4472",
   "metadata": {},
   "outputs": [
    {
     "name": "stdout",
     "output_type": "stream",
     "text": [
      "[1 3] [2]\n"
     ]
    }
   ],
   "source": [
    "nodes = np.asarray([1, 2, 3])\n",
    "eigenvec = np.asarray([2, -1, 0])\n",
    "nodes1, nodes2 = cut_graph_by_sign(nodes, eigenvec)\n",
    "print(nodes1, nodes2)"
   ]
  }
 ],
 "metadata": {
  "kernelspec": {
   "display_name": "Python 3 (ipykernel)",
   "language": "python",
   "name": "python3"
  },
  "language_info": {
   "codemirror_mode": {
    "name": "ipython",
    "version": 3
   },
   "file_extension": ".py",
   "mimetype": "text/x-python",
   "name": "python",
   "nbconvert_exporter": "python",
   "pygments_lexer": "ipython3",
   "version": "3.9.7"
  }
 },
 "nbformat": 4,
 "nbformat_minor": 5
}
